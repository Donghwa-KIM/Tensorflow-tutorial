{
 "cells": [
  {
   "cell_type": "code",
   "execution_count": 1,
   "metadata": {},
   "outputs": [],
   "source": [
    "%matplotlib inline\n",
    "import tensorflow as tf\n",
    "import numpy as np\n",
    "import matplotlib.pyplot as plt\n",
    "import time"
   ]
  },
  {
   "cell_type": "code",
   "execution_count": 2,
   "metadata": {},
   "outputs": [],
   "source": [
    "config = tf.ConfigProto()\n",
    "config.gpu_options.allow_growth=True"
   ]
  },
  {
   "cell_type": "markdown",
   "metadata": {},
   "source": [
    "---"
   ]
  },
  {
   "cell_type": "markdown",
   "metadata": {},
   "source": [
    "# **Constant**"
   ]
  },
  {
   "cell_type": "code",
   "execution_count": 3,
   "metadata": {},
   "outputs": [
    {
     "name": "stdout",
     "output_type": "stream",
     "text": [
      "5\n"
     ]
    }
   ],
   "source": [
    "a = tf.constant(2, name = \"a\")\n",
    "b = tf.constant(3, name = 'b')\n",
    "x = tf.add(a,b, name=\"add\")\n",
    "with tf.Session(config=config) as sess:\n",
    "    print(sess.run(x))"
   ]
  },
  {
   "cell_type": "markdown",
   "metadata": {},
   "source": [
    "- 마지막 숫자 값을 반복해 설정된 shape을 생성"
   ]
  },
  {
   "cell_type": "code",
   "execution_count": 4,
   "metadata": {},
   "outputs": [
    {
     "data": {
      "text/plain": [
       "<tf.Tensor 'Const:0' shape=(2, 2) dtype=int32>"
      ]
     },
     "execution_count": 4,
     "metadata": {},
     "output_type": "execute_result"
    }
   ],
   "source": [
    "a = tf.constant(2, shape = [2,2], verify_shape = False)\n",
    "a"
   ]
  },
  {
   "cell_type": "code",
   "execution_count": 5,
   "metadata": {},
   "outputs": [
    {
     "data": {
      "text/plain": [
       "array([[2, 2],\n",
       "       [2, 2]], dtype=int32)"
      ]
     },
     "execution_count": 5,
     "metadata": {},
     "output_type": "execute_result"
    }
   ],
   "source": [
    "with tf.Session(config=config) as sess:\n",
    "    _a = sess.run(a)\n",
    "_a"
   ]
  },
  {
   "cell_type": "markdown",
   "metadata": {},
   "source": [
    "- 다른 방식으로 sess.run 하는 방법"
   ]
  },
  {
   "cell_type": "code",
   "execution_count": 6,
   "metadata": {},
   "outputs": [
    {
     "data": {
      "text/plain": [
       "array([[2, 2],\n",
       "       [2, 2]], dtype=int32)"
      ]
     },
     "execution_count": 6,
     "metadata": {},
     "output_type": "execute_result"
    }
   ],
   "source": [
    "# default session()\n",
    "tf.InteractiveSession(config=config)\n",
    "# run\n",
    "a.eval()"
   ]
  },
  {
   "cell_type": "markdown",
   "metadata": {},
   "source": [
    "- 마지막 숫자 값을 반복해 설정된 shape을 생성"
   ]
  },
  {
   "cell_type": "code",
   "execution_count": 7,
   "metadata": {},
   "outputs": [
    {
     "data": {
      "text/plain": [
       "array([[2, 1, 1],\n",
       "       [1, 1, 1],\n",
       "       [1, 1, 1]], dtype=int32)"
      ]
     },
     "execution_count": 7,
     "metadata": {},
     "output_type": "execute_result"
    }
   ],
   "source": [
    "b = tf.constant([2,1], shape=[3,3])\n",
    "b.eval()"
   ]
  },
  {
   "cell_type": "markdown",
   "metadata": {},
   "source": [
    "- **broadcast examples**"
   ]
  },
  {
   "cell_type": "code",
   "execution_count": 8,
   "metadata": {},
   "outputs": [],
   "source": [
    "a = tf.constant([2,2], name= \"a\")\n",
    "b = tf.constant([[0,1],[2,3]], name=\"b\")\n",
    "x = tf.add(a,b, name = \"add\")"
   ]
  },
  {
   "cell_type": "code",
   "execution_count": 9,
   "metadata": {},
   "outputs": [
    {
     "data": {
      "text/plain": [
       "array([[2, 3],\n",
       "       [4, 5]], dtype=int32)"
      ]
     },
     "execution_count": 9,
     "metadata": {},
     "output_type": "execute_result"
    }
   ],
   "source": [
    "x.eval()"
   ]
  },
  {
   "cell_type": "code",
   "execution_count": 10,
   "metadata": {},
   "outputs": [
    {
     "data": {
      "text/plain": [
       "array([[0, 2],\n",
       "       [4, 6]], dtype=int32)"
      ]
     },
     "execution_count": 10,
     "metadata": {},
     "output_type": "execute_result"
    }
   ],
   "source": [
    "y = tf.multiply(a,b, name ='mul')\n",
    "y.eval()"
   ]
  },
  {
   "cell_type": "markdown",
   "metadata": {},
   "source": [
    "---"
   ]
  },
  {
   "cell_type": "markdown",
   "metadata": {},
   "source": [
    "# **특정한 값으로 Tensor를 채우는 방법***"
   ]
  },
  {
   "cell_type": "markdown",
   "metadata": {},
   "source": [
    "- zeros"
   ]
  },
  {
   "cell_type": "code",
   "execution_count": 11,
   "metadata": {},
   "outputs": [
    {
     "data": {
      "text/plain": [
       "array([[0, 0, 0],\n",
       "       [0, 0, 0]], dtype=int32)"
      ]
     },
     "execution_count": 11,
     "metadata": {},
     "output_type": "execute_result"
    }
   ],
   "source": [
    "z = tf.zeros([2,3], dtype=tf.int32, name = 'inital_value')\n",
    "z.eval()"
   ]
  },
  {
   "cell_type": "code",
   "execution_count": 12,
   "metadata": {},
   "outputs": [
    {
     "data": {
      "text/plain": [
       "[[0, 1], [2, 3], [4, 5]]"
      ]
     },
     "execution_count": 12,
     "metadata": {},
     "output_type": "execute_result"
    }
   ],
   "source": [
    "input_tensor = [[0,1],[2,3],[4,5]]\n",
    "input_tensor"
   ]
  },
  {
   "cell_type": "code",
   "execution_count": 13,
   "metadata": {},
   "outputs": [
    {
     "data": {
      "text/plain": [
       "array([[0, 0],\n",
       "       [0, 0],\n",
       "       [0, 0]], dtype=int32)"
      ]
     },
     "execution_count": 13,
     "metadata": {},
     "output_type": "execute_result"
    }
   ],
   "source": [
    "z_like = tf.zeros_like(input_tensor)\n",
    "z_like.eval()"
   ]
  },
  {
   "cell_type": "markdown",
   "metadata": {},
   "source": [
    "- ones"
   ]
  },
  {
   "cell_type": "code",
   "execution_count": 14,
   "metadata": {},
   "outputs": [
    {
     "data": {
      "text/plain": [
       "array([[1, 1, 1],\n",
       "       [1, 1, 1]], dtype=int32)"
      ]
     },
     "execution_count": 14,
     "metadata": {},
     "output_type": "execute_result"
    }
   ],
   "source": [
    "one = tf.ones([2,3], dtype=tf.int32, name = 'inital_value')\n",
    "one.eval()"
   ]
  },
  {
   "cell_type": "code",
   "execution_count": 15,
   "metadata": {},
   "outputs": [
    {
     "data": {
      "text/plain": [
       "array([[1, 1],\n",
       "       [1, 1],\n",
       "       [1, 1]], dtype=int32)"
      ]
     },
     "execution_count": 15,
     "metadata": {},
     "output_type": "execute_result"
    }
   ],
   "source": [
    "one_like = tf.ones_like(input_tensor)\n",
    "one_like.eval()"
   ]
  },
  {
   "cell_type": "markdown",
   "metadata": {},
   "source": [
    "- a specific value"
   ]
  },
  {
   "cell_type": "code",
   "execution_count": 16,
   "metadata": {},
   "outputs": [
    {
     "data": {
      "text/plain": [
       "array([[8, 8, 8],\n",
       "       [8, 8, 8]], dtype=int32)"
      ]
     },
     "execution_count": 16,
     "metadata": {},
     "output_type": "execute_result"
    }
   ],
   "source": [
    "fill = tf.fill([2,3], 8)\n",
    "fill.eval()"
   ]
  },
  {
   "cell_type": "markdown",
   "metadata": {},
   "source": [
    "---"
   ]
  },
  {
   "cell_type": "markdown",
   "metadata": {},
   "source": [
    "# **Contants as Sequences**"
   ]
  },
  {
   "cell_type": "code",
   "execution_count": 17,
   "metadata": {},
   "outputs": [
    {
     "data": {
      "text/plain": [
       "array([10., 11., 12., 13.], dtype=float32)"
      ]
     },
     "execution_count": 17,
     "metadata": {},
     "output_type": "execute_result"
    }
   ],
   "source": [
    "# only float\n",
    "linsp = tf.linspace(start=10.0, stop=13.0, num=4)\n",
    "linsp.eval()"
   ]
  },
  {
   "cell_type": "code",
   "execution_count": 18,
   "metadata": {},
   "outputs": [
    {
     "data": {
      "text/plain": [
       "array([ 3,  6,  9, 12, 15], dtype=int32)"
      ]
     },
     "execution_count": 18,
     "metadata": {},
     "output_type": "execute_result"
    }
   ],
   "source": [
    "ran1 = tf.range(start=3, limit=18, delta=3)\n",
    "ran1.eval()"
   ]
  },
  {
   "cell_type": "code",
   "execution_count": 19,
   "metadata": {},
   "outputs": [
    {
     "data": {
      "text/plain": [
       "array([0, 1, 2, 3, 4], dtype=int32)"
      ]
     },
     "execution_count": 19,
     "metadata": {},
     "output_type": "execute_result"
    }
   ],
   "source": [
    "# tf.range is not iterable\n",
    "ran2 = tf.range(start=0, limit=5)\n",
    "ran2.eval()"
   ]
  },
  {
   "cell_type": "code",
   "execution_count": 20,
   "metadata": {},
   "outputs": [
    {
     "data": {
      "text/plain": [
       "[0, 1, 2, 3, 4]"
      ]
     },
     "execution_count": 20,
     "metadata": {},
     "output_type": "execute_result"
    }
   ],
   "source": [
    "# outputs from graph are iterable\n",
    "[ i for i in ran2.eval()]"
   ]
  },
  {
   "cell_type": "markdown",
   "metadata": {},
   "source": [
    "___"
   ]
  },
  {
   "cell_type": "markdown",
   "metadata": {},
   "source": [
    "# **Randomly Generated Constants***"
   ]
  },
  {
   "cell_type": "markdown",
   "metadata": {},
   "source": [
    "<p align=\"center\"><img width=\"500\" height=\"auto\" src=\"./picture/normal_dis.png\"></p>"
   ]
  },
  {
   "cell_type": "code",
   "execution_count": 21,
   "metadata": {},
   "outputs": [
    {
     "data": {
      "text/plain": [
       "array([[ 0.01461793, -1.6150188 ,  1.4873881 ],\n",
       "       [ 0.07068097, -0.6912661 ,  0.19011493],\n",
       "       [ 0.41648027, -1.1468351 , -1.1730275 ]], dtype=float32)"
      ]
     },
     "execution_count": 21,
     "metadata": {},
     "output_type": "execute_result"
    }
   ],
   "source": [
    "norm = tf.random_normal([3,3], mean=0.0, stddev=1.0, dtype=tf.float32)\n",
    "norm.eval()"
   ]
  },
  {
   "cell_type": "markdown",
   "metadata": {},
   "source": [
    "<p align=\"center\"><img width=\"500\" height=\"auto\" src=\"./picture/t_normal_d.png\"></p>"
   ]
  },
  {
   "cell_type": "code",
   "execution_count": 22,
   "metadata": {},
   "outputs": [
    {
     "data": {
      "text/plain": [
       "array([[ 0.62541044, -0.6920324 , -0.63228077],\n",
       "       [-1.3719941 , -0.82131743, -1.7461069 ],\n",
       "       [ 0.98285645, -1.7571507 ,  0.24591823]], dtype=float32)"
      ]
     },
     "execution_count": 22,
     "metadata": {},
     "output_type": "execute_result"
    }
   ],
   "source": [
    "t_norm = tf.truncated_normal([3,3], mean=0.0, stddev=1.0, dtype=tf.float32)\n",
    "t_norm.eval()"
   ]
  },
  {
   "cell_type": "markdown",
   "metadata": {},
   "source": [
    "- batch단위로 update할 때 diversity를 가지는 방법"
   ]
  },
  {
   "cell_type": "code",
   "execution_count": 23,
   "metadata": {},
   "outputs": [],
   "source": [
    "a = tf.constant([[2,1],[2,2],[3,3]])\n",
    "suffle = tf.random_shuffle(a)"
   ]
  },
  {
   "cell_type": "code",
   "execution_count": 24,
   "metadata": {},
   "outputs": [
    {
     "data": {
      "text/plain": [
       "array([[2, 1],\n",
       "       [3, 3],\n",
       "       [2, 2]], dtype=int32)"
      ]
     },
     "execution_count": 24,
     "metadata": {},
     "output_type": "execute_result"
    }
   ],
   "source": [
    "suffle.eval()"
   ]
  },
  {
   "cell_type": "markdown",
   "metadata": {},
   "source": [
    "- multinomial distribution"
   ]
  },
  {
   "cell_type": "code",
   "execution_count": 25,
   "metadata": {},
   "outputs": [
    {
     "data": {
      "text/plain": [
       "array([[ 0.81318066,  0.99771944,  1.0133489 ,  0.41025099],\n",
       "       [-1.11684745,  0.22301195, -0.35553633, -0.17773813],\n",
       "       [-0.34038863,  1.00654491,  0.19369768,  0.16498733]])"
      ]
     },
     "execution_count": 25,
     "metadata": {},
     "output_type": "execute_result"
    }
   ],
   "source": [
    "b = tf.constant(np.random.normal(size=(3,4)))\n",
    "b.eval()"
   ]
  },
  {
   "cell_type": "code",
   "execution_count": 26,
   "metadata": {},
   "outputs": [
    {
     "data": {
      "text/plain": [
       "array([[0, 1, 2, 2, 1, 3, 1, 0, 1, 2],\n",
       "       [3, 1, 3, 3, 2, 2, 2, 1, 1, 3],\n",
       "       [1, 2, 0, 2, 1, 2, 3, 1, 3, 1]])"
      ]
     },
     "execution_count": 26,
     "metadata": {},
     "output_type": "execute_result"
    }
   ],
   "source": [
    "# b is an probability over distribution\n",
    "# n is number of samples\n",
    "tf.multinomial(logits= b, num_samples=10).eval()"
   ]
  },
  {
   "cell_type": "markdown",
   "metadata": {},
   "source": [
    "- gamma distribution"
   ]
  },
  {
   "cell_type": "code",
   "execution_count": 27,
   "metadata": {},
   "outputs": [],
   "source": [
    "size = (50000,)\n",
    "shape_parameter = 1.5\n",
    "scale_parameter = 0.5\n",
    "bins = np.linspace(-1, 5, 30)"
   ]
  },
  {
   "cell_type": "markdown",
   "metadata": {},
   "source": [
    "<p align=\"center\"><img width=\"400\" height=\"auto\" src=\"./picture/Gamma-distribution-The-two-parameter-gamma-distribution-is-specified-in-terms-of-a-shape.png\"></p>"
   ]
  },
  {
   "cell_type": "code",
   "execution_count": 28,
   "metadata": {},
   "outputs": [
    {
     "data": {
      "text/plain": [
       "array([0.46443126, 1.6910329 , 1.0002396 , ..., 0.55353063, 0.9440237 ,\n",
       "       0.56810814], dtype=float32)"
      ]
     },
     "execution_count": 28,
     "metadata": {},
     "output_type": "execute_result"
    }
   ],
   "source": [
    "tf_ran = tf.random_gamma(shape=size, alpha=shape_parameter, beta=1/scale_parameter).eval()\n",
    "tf_ran"
   ]
  },
  {
   "cell_type": "code",
   "execution_count": 29,
   "metadata": {},
   "outputs": [
    {
     "data": {
      "text/plain": [
       "array([0.38838336, 0.12790209, 0.32373217, ..., 0.11283486, 0.26853574,\n",
       "       0.85622306])"
      ]
     },
     "execution_count": 29,
     "metadata": {},
     "output_type": "execute_result"
    }
   ],
   "source": [
    "np_ran = np.random.gamma(size=size, shape=shape_parameter, scale = scale_parameter )\n",
    "np_ran"
   ]
  },
  {
   "cell_type": "code",
   "execution_count": 30,
   "metadata": {},
   "outputs": [
    {
     "data": {
      "image/png": "[encoded data removed]",
      "text/plain": [
       "<Figure size 432x288 with 1 Axes>"
      ]
     },
     "metadata": {},
     "output_type": "display_data"
    }
   ],
   "source": [
    "# alpha: range of bins\n",
    "plt.hist(tf_ran, bins=bins, alpha=0.5);"
   ]
  },
  {
   "cell_type": "code",
   "execution_count": 31,
   "metadata": {},
   "outputs": [
    {
     "data": {
      "image/png": "[encoded data removed]",
      "text/plain": [
       "<Figure size 432x288 with 1 Axes>"
      ]
     },
     "metadata": {},
     "output_type": "display_data"
    }
   ],
   "source": [
    "# alpha: range of bins\n",
    "plt.hist(np_ran, bins=bins, alpha=0.5);"
   ]
  },
  {
   "cell_type": "markdown",
   "metadata": {},
   "source": [
    "- **Seed 설정**\n",
    "    - op object에 대한 seed 설정하는 방법\n",
    "    - session 단위로 seed 설정하는 방법\n",
    "        - weight initializaion할 때 설정된 seed값에 따라 동일한 값을 부여 할 수 있음*"
   ]
  },
  {
   "cell_type": "code",
   "execution_count": 32,
   "metadata": {},
   "outputs": [
    {
     "name": "stdout",
     "output_type": "stream",
     "text": [
      "[0.41270632 0.2803034  0.26234    ... 0.23223135 0.41961455 0.6411132 ]\n",
      "[1.0389929  0.02831226 0.6094381  ... 0.40110907 1.340842   0.02228698]\n",
      "[0.41270632 0.2803034  0.26234    ... 0.23223135 0.41961455 0.6411132 ]\n",
      "[1.0122739  1.030091   0.09850701 ... 0.46997434 0.4186724  0.4976452 ]\n"
     ]
    }
   ],
   "source": [
    "ran1 = tf.random_gamma(shape=size, alpha=shape_parameter, beta=1/scale_parameter, seed=1)\n",
    "ran2 = tf.random_gamma(shape=size, alpha=shape_parameter, beta=1/scale_parameter)\n",
    "\n",
    "with tf.Session(config=config) as sess:\n",
    "    print(sess.run(ran1))\n",
    "    print(sess.run(ran2))\n",
    "with tf.Session(config=config) as sess:\n",
    "    print(sess.run(ran1))\n",
    "    print(sess.run(ran2))"
   ]
  },
  {
   "cell_type": "code",
   "execution_count": 33,
   "metadata": {},
   "outputs": [
    {
     "name": "stdout",
     "output_type": "stream",
     "text": [
      "[0.19526242 1.0317712  1.3083752  ... 0.9441139  0.3063968  0.4665212 ]\n",
      "[0.7920905  0.13498338 0.29563674 ... 0.40388352 0.5188166  0.3100317 ]\n",
      "[0.19526242 1.0317712  1.3083752  ... 0.9441139  0.3063968  0.4665212 ]\n",
      "[0.7920905  0.13498338 0.29563674 ... 0.40388352 0.5188166  0.3100317 ]\n"
     ]
    }
   ],
   "source": [
    "tf.set_random_seed(1)\n",
    "tf_ran1 = tf.random_gamma(shape=size, alpha=shape_parameter, beta=1/scale_parameter)\n",
    "tf_ran2 = tf.random_gamma(shape=size, alpha=shape_parameter, beta=1/scale_parameter)\n",
    "\n",
    "with tf.Session(config=config) as sess:\n",
    "    print(sess.run(tf_ran1))\n",
    "    print(sess.run(tf_ran2))\n",
    "with tf.Session(config=config) as sess:\n",
    "    print(sess.run(tf_ran1))\n",
    "    print(sess.run(tf_ran2))"
   ]
  },
  {
   "cell_type": "markdown",
   "metadata": {},
   "source": [
    "---"
   ]
  },
  {
   "cell_type": "markdown",
   "metadata": {},
   "source": [
    "# **Operation***"
   ]
  },
  {
   "cell_type": "code",
   "execution_count": 34,
   "metadata": {},
   "outputs": [],
   "source": [
    "a = tf.constant([3,6])\n",
    "b = tf.constant([2,2])"
   ]
  },
  {
   "cell_type": "code",
   "execution_count": 35,
   "metadata": {},
   "outputs": [
    {
     "data": {
      "text/plain": [
       "array([5, 8], dtype=int32)"
      ]
     },
     "execution_count": 35,
     "metadata": {},
     "output_type": "execute_result"
    }
   ],
   "source": [
    "tf.add(a,b).eval()"
   ]
  },
  {
   "cell_type": "markdown",
   "metadata": {},
   "source": [
    "- add multiple elements "
   ]
  },
  {
   "cell_type": "code",
   "execution_count": 36,
   "metadata": {},
   "outputs": [
    {
     "data": {
      "text/plain": [
       "array([ 7, 10], dtype=int32)"
      ]
     },
     "execution_count": 36,
     "metadata": {},
     "output_type": "execute_result"
    }
   ],
   "source": [
    "# list as input\n",
    "tf.add_n([a,b,b]).eval()"
   ]
  },
  {
   "cell_type": "markdown",
   "metadata": {},
   "source": [
    "- elemnt-wise multiply"
   ]
  },
  {
   "cell_type": "code",
   "execution_count": 37,
   "metadata": {},
   "outputs": [
    {
     "data": {
      "text/plain": [
       "array([ 6, 12], dtype=int32)"
      ]
     },
     "execution_count": 37,
     "metadata": {},
     "output_type": "execute_result"
    }
   ],
   "source": [
    "tf.multiply(a,b).eval()"
   ]
  },
  {
   "cell_type": "markdown",
   "metadata": {},
   "source": [
    "- matrix multiplication*\n",
    "    - shape 변환*"
   ]
  },
  {
   "cell_type": "code",
   "execution_count": 38,
   "metadata": {},
   "outputs": [
    {
     "name": "stdout",
     "output_type": "stream",
     "text": [
      "Tensor(\"Const_4:0\", shape=(2,), dtype=int32)\n",
      "Tensor(\"Reshape:0\", shape=(1, 2), dtype=int32)\n",
      "Tensor(\"Reshape_1:0\", shape=(1, 2), dtype=int32)\n",
      "[[3 6]]\n"
     ]
    }
   ],
   "source": [
    "print(a)\n",
    "\n",
    "#case 1)\n",
    "print(tf.reshape(a,shape=[1,2]))\n",
    "\n",
    "#case 2)\n",
    "print(tf.reshape(a,shape=[1,-1]))\n",
    "\n",
    "# print\n",
    "print(tf.reshape(a,shape=[1,2]).eval())"
   ]
  },
  {
   "cell_type": "code",
   "execution_count": 39,
   "metadata": {},
   "outputs": [
    {
     "name": "stdout",
     "output_type": "stream",
     "text": [
      "Tensor(\"MatMul:0\", shape=(1, 1), dtype=int32)\n",
      "[[18]]\n"
     ]
    }
   ],
   "source": [
    "# (1x2) x (2x1)\n",
    "mat = tf.matmul(tf.reshape(a,[1,2]),tf.reshape(b,[2,1]))\n",
    "print(mat)\n",
    "print(mat.eval())"
   ]
  },
  {
   "cell_type": "markdown",
   "metadata": {},
   "source": [
    "- division"
   ]
  },
  {
   "cell_type": "code",
   "execution_count": 40,
   "metadata": {},
   "outputs": [
    {
     "data": {
      "text/plain": [
       "array([1, 3], dtype=int32)"
      ]
     },
     "execution_count": 40,
     "metadata": {},
     "output_type": "execute_result"
    }
   ],
   "source": [
    "tf.div(a,b).eval()"
   ]
  },
  {
   "cell_type": "markdown",
   "metadata": {},
   "source": [
    "- mod(remainder)"
   ]
  },
  {
   "cell_type": "code",
   "execution_count": 41,
   "metadata": {},
   "outputs": [
    {
     "data": {
      "text/plain": [
       "array([1, 0], dtype=int32)"
      ]
     },
     "execution_count": 41,
     "metadata": {},
     "output_type": "execute_result"
    }
   ],
   "source": [
    "tf.mod(a,b).eval()"
   ]
  },
  {
   "cell_type": "markdown",
   "metadata": {},
   "source": [
    "---"
   ]
  },
  {
   "cell_type": "markdown",
   "metadata": {},
   "source": [
    "# **Tensorflow Data Types**"
   ]
  },
  {
   "cell_type": "markdown",
   "metadata": {},
   "source": [
    "- 0-d tensor (scalar)"
   ]
  },
  {
   "cell_type": "code",
   "execution_count": 42,
   "metadata": {},
   "outputs": [
    {
     "name": "stdout",
     "output_type": "stream",
     "text": [
      "0\n",
      "1\n"
     ]
    }
   ],
   "source": [
    "t_0 = 19\n",
    "print(tf.zeros_like(t_0).eval())\n",
    "print(tf.ones_like(t_0).eval())"
   ]
  },
  {
   "cell_type": "markdown",
   "metadata": {},
   "source": [
    "- 1-d tensor (vector)"
   ]
  },
  {
   "cell_type": "code",
   "execution_count": 43,
   "metadata": {},
   "outputs": [],
   "source": [
    "t_1 = ['apple', 'peach', 'banana']\n",
    "\n",
    "# string dosen't work\n",
    "\n",
    "# print(tf.zeros_like(t_1).eval())\n",
    "# print(tf.ones_like(t_1).eval())"
   ]
  },
  {
   "cell_type": "markdown",
   "metadata": {},
   "source": [
    " - 2-d tensor (matrix)"
   ]
  },
  {
   "cell_type": "code",
   "execution_count": 44,
   "metadata": {},
   "outputs": [
    {
     "name": "stdout",
     "output_type": "stream",
     "text": [
      "[[False False False]\n",
      " [False False False]\n",
      " [False False False]]\n",
      "[[ True  True  True]\n",
      " [ True  True  True]\n",
      " [ True  True  True]]\n"
     ]
    }
   ],
   "source": [
    "t_2 = [[True, False, False],\n",
    "      [False, False, True],\n",
    "      [False, True, False]]\n",
    "print(tf.zeros_like(t_2).eval())\n",
    "print(tf.ones_like(t_2).eval())"
   ]
  },
  {
   "cell_type": "markdown",
   "metadata": {},
   "source": [
    "- **dtypes lists**\n",
    "\n",
    "<p align=\"center\"><img width=\"400\" height=\"auto\" src=\"./picture/dtype.jpg\"></p>"
   ]
  },
  {
   "cell_type": "markdown",
   "metadata": {},
   "source": [
    "- **Tensorflow vs Numpy**"
   ]
  },
  {
   "cell_type": "code",
   "execution_count": 45,
   "metadata": {},
   "outputs": [
    {
     "data": {
      "text/plain": [
       "True"
      ]
     },
     "execution_count": 45,
     "metadata": {},
     "output_type": "execute_result"
    }
   ],
   "source": [
    "tf.int32 == np.int32"
   ]
  },
  {
   "cell_type": "code",
   "execution_count": 46,
   "metadata": {},
   "outputs": [
    {
     "data": {
      "text/plain": [
       "array([[1., 1.],\n",
       "       [1., 1.]], dtype=float32)"
      ]
     },
     "execution_count": 46,
     "metadata": {},
     "output_type": "execute_result"
    }
   ],
   "source": [
    "tf.ones([2,2], np.float32).eval()"
   ]
  },
  {
   "cell_type": "code",
   "execution_count": 47,
   "metadata": {},
   "outputs": [
    {
     "data": {
      "text/plain": [
       "array([[1., 1.],\n",
       "       [1., 1.]], dtype=float32)"
      ]
     },
     "execution_count": 47,
     "metadata": {},
     "output_type": "execute_result"
    }
   ],
   "source": [
    "tf.ones([2,2], tf.float32).eval()"
   ]
  },
  {
   "cell_type": "markdown",
   "metadata": {},
   "source": [
    "---"
   ]
  },
  {
   "cell_type": "markdown",
   "metadata": {},
   "source": [
    "# **tf.Variable**"
   ]
  },
  {
   "cell_type": "markdown",
   "metadata": {},
   "source": [
    "- **Variable를 사용해야하는 이유***\n",
    "    - 메모리를 많이 요구하는 데이터에 대해서 사용하기 효율적임"
   ]
  },
  {
   "cell_type": "code",
   "execution_count": 48,
   "metadata": {},
   "outputs": [
    {
     "data": {
      "text/plain": [
       "<tf.Tensor 'my_const:0' shape=(2,) dtype=float32>"
      ]
     },
     "execution_count": 48,
     "metadata": {},
     "output_type": "execute_result"
    }
   ],
   "source": [
    "# remove previous graph\n",
    "tf.reset_default_graph()\n",
    "\n",
    "my_const = tf.constant([1.0, 2.0], name = 'my_const')\n",
    "\n",
    "my_const"
   ]
  },
  {
   "cell_type": "code",
   "execution_count": 49,
   "metadata": {},
   "outputs": [
    {
     "name": "stdout",
     "output_type": "stream",
     "text": [
      "node {\n",
      "  name: \"my_const\"\n",
      "  op: \"Const\"\n",
      "  attr {\n",
      "    key: \"dtype\"\n",
      "    value {\n",
      "      type: DT_FLOAT\n",
      "    }\n",
      "  }\n",
      "  attr {\n",
      "    key: \"value\"\n",
      "    value {\n",
      "      tensor {\n",
      "        dtype: DT_FLOAT\n",
      "        tensor_shape {\n",
      "          dim {\n",
      "            size: 2\n",
      "          }\n",
      "        }\n",
      "        tensor_content: \"\\000\\000\\200?\\000\\000\\000@\"\n",
      "      }\n",
      "    }\n",
      "  }\n",
      "}\n",
      "versions {\n",
      "  producer: 24\n",
      "}\n",
      "\n"
     ]
    }
   ],
   "source": [
    "# requires more memory\n",
    "with tf.Session(config=config) as sess:\n",
    "    # serialized version of graph\n",
    "    print(sess.graph.as_graph_def())"
   ]
  },
  {
   "cell_type": "markdown",
   "metadata": {},
   "source": [
    "- **다양한 함수를 이용하여 Variable를 컨트롤 할 수 있음**\n",
    "    - initializer\n",
    "    - value\n",
    "    - assign\n",
    "    - assign_add"
   ]
  },
  {
   "cell_type": "markdown",
   "metadata": {},
   "source": [
    "- **Variable**\n",
    "    - 한번 선언된 변수를 같은 이름으로 선언할 경우 이름에 숫자가 붙어 생성됨"
   ]
  },
  {
   "cell_type": "code",
   "execution_count": 50,
   "metadata": {},
   "outputs": [
    {
     "name": "stdout",
     "output_type": "stream",
     "text": [
      "<tf.Variable 'scalar:0' shape=() dtype=int32_ref>\n",
      "<tf.Variable 'scalar_1:0' shape=() dtype=int32_ref>\n"
     ]
    }
   ],
   "source": [
    "tf.reset_default_graph()\n",
    "\n",
    "# empty values\n",
    "a = tf.Variable(2, name = \"scalar\")\n",
    "b = tf.Variable(2, name = \"scalar\")\n",
    "\n",
    "print(a)\n",
    "print(b)"
   ]
  },
  {
   "cell_type": "markdown",
   "metadata": {},
   "source": [
    "- **get_variable** (주로 사용되는 방식)\n",
    "    - 효율적인 변수관리가 가능\n",
    "    - 한번 선언된 변수를 같은 이름으로 선언할 수 없음(reset이 필요함)"
   ]
  },
  {
   "cell_type": "code",
   "execution_count": 51,
   "metadata": {},
   "outputs": [],
   "source": [
    "tf.reset_default_graph()\n",
    "\n",
    "# empty values\n",
    "a = tf.get_variable(name= \"scalar\", initializer=tf.constant(2))\n",
    "b = tf.get_variable(name= \"vector\", initializer=tf.constant([2,3]))\n",
    "c = tf.get_variable(name= \"matrix\", initializer=tf.constant([[0,1],[2,3]]))\n",
    "W = tf.get_variable(name= \"big_matrix\", shape = [784,10], initializer=tf.zeros_initializer()) # tf.initializers.truncated_normal()"
   ]
  },
  {
   "cell_type": "code",
   "execution_count": 52,
   "metadata": {},
   "outputs": [
    {
     "name": "stdout",
     "output_type": "stream",
     "text": [
      "[1] <tf.Variable 'scalar:0' shape=() dtype=int32_ref> \n",
      "\n",
      "[2] <tf.Variable 'vector:0' shape=(2,) dtype=int32_ref> \n",
      "\n",
      "[3] <tf.Variable 'matrix:0' shape=(2, 2) dtype=int32_ref> \n",
      "\n",
      "[4] <tf.Variable 'big_matrix:0' shape=(784, 10) dtype=float32_ref> \n",
      "\n"
     ]
    }
   ],
   "source": [
    "print('[1]',a,'\\n') \n",
    "print('[2]',b,'\\n') \n",
    "print('[3]',c,'\\n') \n",
    "print('[4]',W,'\\n') "
   ]
  },
  {
   "cell_type": "markdown",
   "metadata": {},
   "source": [
    "- **initialization을 해주어야 Variable에 값이 할당 됨***\n",
    "    - global initialization*\n",
    "    - local initialization (Transfer learning: 특정 layer만 initialization하고 싶을 때 사용 가능)*\n",
    "    - single initialization\n"
   ]
  },
  {
   "cell_type": "code",
   "execution_count": 53,
   "metadata": {},
   "outputs": [
    {
     "name": "stdout",
     "output_type": "stream",
     "text": [
      "2\n",
      "[2 3]\n",
      "[[0 1]\n",
      " [2 3]]\n",
      "[[0. 0. 0. ... 0. 0. 0.]\n",
      " [0. 0. 0. ... 0. 0. 0.]\n",
      " [0. 0. 0. ... 0. 0. 0.]\n",
      " ...\n",
      " [0. 0. 0. ... 0. 0. 0.]\n",
      " [0. 0. 0. ... 0. 0. 0.]\n",
      " [0. 0. 0. ... 0. 0. 0.]]\n"
     ]
    }
   ],
   "source": [
    "# global initialization\n",
    "init = tf.global_variables_initializer()\n",
    "with tf.Session(config=config) as sess:\n",
    "    sess.run(init)\n",
    "    print(sess.run(a))\n",
    "    print(sess.run(b))\n",
    "    print(sess.run(c))\n",
    "    print(sess.run(W))"
   ]
  },
  {
   "cell_type": "code",
   "execution_count": 54,
   "metadata": {},
   "outputs": [
    {
     "name": "stdout",
     "output_type": "stream",
     "text": [
      "2\n",
      "[2 3]\n"
     ]
    }
   ],
   "source": [
    "# local initialization\n",
    "init = tf.variables_initializer([a,b],name='init_ab')\n",
    "with tf.Session(config=config) as sess:\n",
    "    sess.run(init)\n",
    "    print(sess.run(a))\n",
    "    print(sess.run(b))"
   ]
  },
  {
   "cell_type": "code",
   "execution_count": 55,
   "metadata": {},
   "outputs": [
    {
     "name": "stdout",
     "output_type": "stream",
     "text": [
      "[[0. 0. 0. ... 0. 0. 0.]\n",
      " [0. 0. 0. ... 0. 0. 0.]\n",
      " [0. 0. 0. ... 0. 0. 0.]\n",
      " ...\n",
      " [0. 0. 0. ... 0. 0. 0.]\n",
      " [0. 0. 0. ... 0. 0. 0.]\n",
      " [0. 0. 0. ... 0. 0. 0.]]\n"
     ]
    }
   ],
   "source": [
    "# single initialization\n",
    "with tf.Session(config=config) as sess:\n",
    "    sess.run(W.initializer)\n",
    "    print(sess.run(W))"
   ]
  },
  {
   "cell_type": "markdown",
   "metadata": {},
   "source": [
    "- **tf.assign**\n",
    "    - 기존에 있는 Variable에 특정한 값을 할당하고 싶을 때 사용\n",
    "    - assign op를 적용할려면 해당 object가 수행되어야 함\n",
    "    - initializer 대신에 assign 함수를 대체해서 사용할 수 있음 **(initializer op == assign op)**"
   ]
  },
  {
   "cell_type": "code",
   "execution_count": 56,
   "metadata": {},
   "outputs": [
    {
     "name": "stdout",
     "output_type": "stream",
     "text": [
      "10\n"
     ]
    }
   ],
   "source": [
    "# dosen't assign\n",
    "tf.reset_default_graph()\n",
    "\n",
    "W = tf.get_variable(name = 'assign_example', initializer=tf.constant(10))\n",
    "W.assign(100)\n",
    "\n",
    "with tf.Session(config=config) as sess:\n",
    "    sess.run(W.initializer)\n",
    "    print(sess.run(W))"
   ]
  },
  {
   "cell_type": "code",
   "execution_count": 57,
   "metadata": {},
   "outputs": [
    {
     "name": "stdout",
     "output_type": "stream",
     "text": [
      "100\n",
      "100\n"
     ]
    }
   ],
   "source": [
    "# assign\n",
    "tf.reset_default_graph()\n",
    "\n",
    "W = tf.get_variable(name = 'assign_example', initializer=tf.constant(10))\n",
    "\n",
    "# W에 100을 할당; assign_op에 100을 할당하는 것이 아님\n",
    "assign_op = W.assign(100)\n",
    "\n",
    "# case1)\n",
    "with tf.Session(config=config) as sess:\n",
    "    sess.run(W.initializer)\n",
    "    sess.run(assign_op)\n",
    "    print(sess.run(W))\n",
    "    \n",
    "# case2)    \n",
    "with tf.Session(config=config) as sess:\n",
    "    sess.run(assign_op)\n",
    "    print(sess.run(W))"
   ]
  },
  {
   "cell_type": "code",
   "execution_count": 58,
   "metadata": {},
   "outputs": [
    {
     "name": "stdout",
     "output_type": "stream",
     "text": [
      "103\n"
     ]
    }
   ],
   "source": [
    "# op dependency\n",
    "tf.reset_default_graph()\n",
    "\n",
    "W = tf.get_variable(name = 'assign_example', initializer=tf.constant(10))\n",
    "assign_op = W.assign(100)\n",
    "op = tf.add(assign_op,3) \n",
    "\n",
    "with tf.Session(config=config) as sess:\n",
    "    sess.run(W.initializer)\n",
    "    print(sess.run(op))"
   ]
  },
  {
   "cell_type": "markdown",
   "metadata": {},
   "source": [
    "- Session이 켜져 있을 경우, assign된 값이 계속 사용됨"
   ]
  },
  {
   "cell_type": "code",
   "execution_count": 59,
   "metadata": {},
   "outputs": [
    {
     "name": "stdout",
     "output_type": "stream",
     "text": [
      "2\n",
      "4\n",
      "4\n",
      "8\n",
      "\n",
      "\n",
      "2\n",
      "4\n",
      "4\n",
      "8\n"
     ]
    }
   ],
   "source": [
    "tf.reset_default_graph()\n",
    "\n",
    "my_var = tf.get_variable(name = 'my_var', initializer=tf.constant(2))\n",
    "my_var_times_two = my_var.assign(2*my_var) # mutiply\n",
    "\n",
    "with tf.Session(config=config) as sess:\n",
    "    sess.run(my_var.initializer)\n",
    "    print(sess.run(my_var))\n",
    "    print(sess.run(my_var_times_two))\n",
    "    print(sess.run(my_var))\n",
    "    print(sess.run(my_var_times_two))\n",
    "    print('\\n')\n",
    "    \n",
    "with tf.Session(config=config) as sess:\n",
    "    sess.run(my_var.initializer)\n",
    "    print(sess.run(my_var))\n",
    "    print(sess.run(my_var_times_two))\n",
    "    print(sess.run(my_var))\n",
    "    print(sess.run(my_var_times_two))\n",
    "    "
   ]
  },
  {
   "cell_type": "code",
   "execution_count": 60,
   "metadata": {},
   "outputs": [
    {
     "name": "stdout",
     "output_type": "stream",
     "text": [
      "10\n",
      "20\n",
      "18\n"
     ]
    }
   ],
   "source": [
    "tf.reset_default_graph()\n",
    "\n",
    "my_var = tf.get_variable(name = 'my_var', initializer=tf.constant(10))\n",
    "\n",
    "with tf.Session(config=config) as sess:\n",
    "\n",
    "    sess.run(my_var.initializer)\n",
    "    print(sess.run(my_var))\n",
    "    print(sess.run(my_var.assign_add(10)))\n",
    "    print(sess.run(my_var.assign_sub(2)))\n"
   ]
  },
  {
   "cell_type": "markdown",
   "metadata": {},
   "source": [
    "- 선언된 session들은 독립적으로 수행됨"
   ]
  },
  {
   "cell_type": "code",
   "execution_count": 61,
   "metadata": {},
   "outputs": [
    {
     "name": "stdout",
     "output_type": "stream",
     "text": [
      "20\n",
      "8\n",
      "\n",
      "\n",
      "30\n",
      "6\n"
     ]
    }
   ],
   "source": [
    "tf.reset_default_graph()\n",
    "\n",
    "my_var = tf.get_variable(name = 'my_var', initializer=tf.constant(10))\n",
    "\n",
    "sess1 = tf.Session(config=config)\n",
    "sess2 = tf.Session(config=config)\n",
    "\n",
    "sess1.run(my_var.initializer)\n",
    "sess2.run(my_var.initializer)\n",
    "    \n",
    "print(sess1.run(my_var.assign_add(10)))\n",
    "print(sess2.run(my_var.assign_sub(2)))\n",
    "print('\\n')\n",
    "\n",
    "print(sess1.run(my_var.assign_add(10)))\n",
    "print(sess2.run(my_var.assign_sub(2)))\n",
    "\n",
    "sess1.close()\n",
    "sess2.close()"
   ]
  },
  {
   "cell_type": "markdown",
   "metadata": {},
   "source": [
    "- variable로 선언된 값을 재사용할 경우 원래 값이 변할 수 있음 (error)\n",
    "- copy() in numpy"
   ]
  },
  {
   "cell_type": "code",
   "execution_count": 62,
   "metadata": {},
   "outputs": [],
   "source": [
    "# not safe case\n",
    "tf.reset_default_graph()\n",
    "\n",
    "W = tf.get_variable(name = 'W',shape =[], initializer = tf.truncated_normal_initializer())\n",
    "U = tf.get_variable(name = 'U', initializer = 2*W)"
   ]
  },
  {
   "cell_type": "code",
   "execution_count": 63,
   "metadata": {},
   "outputs": [],
   "source": [
    "# safe\n",
    "tf.reset_default_graph()\n",
    "\n",
    "W = tf.get_variable(name = 'W',shape =[], initializer = tf.truncated_normal_initializer())\n",
    "U = tf.get_variable(name = 'U', initializer = 2*W.initialized_value())"
   ]
  },
  {
   "cell_type": "code",
   "execution_count": 64,
   "metadata": {},
   "outputs": [],
   "source": [
    "sess = tf.InteractiveSession(config=config)"
   ]
  },
  {
   "cell_type": "code",
   "execution_count": 65,
   "metadata": {},
   "outputs": [
    {
     "data": {
      "text/plain": [
       "-1.9076931"
      ]
     },
     "execution_count": 65,
     "metadata": {},
     "output_type": "execute_result"
    }
   ],
   "source": [
    "sess.run(U.initializer)\n",
    "U.eval()"
   ]
  },
  {
   "cell_type": "markdown",
   "metadata": {},
   "source": [
    "- **Control Dependencies***\n",
    "    - graph가 a, b, c, d, e의 op를 가질 때,\n",
    "    - tf.control_dependencies([a,b,c])를 적용할 경우\n",
    "    - 'a', 'b', 'c'가 먼저 수행된 후에 d, e가 실행되도록 컨트롤(Transfer learning, Batch normalization에 주로 사용됨)"
   ]
  },
  {
   "cell_type": "code",
   "execution_count": 66,
   "metadata": {},
   "outputs": [],
   "source": [
    "tf.reset_default_graph()\n",
    "\n",
    "a = tf.get_variable(name = 'a', initializer=2.0)\n",
    "b = tf.get_variable(name = 'b', initializer=1.0)\n",
    "\n",
    "dependent_op = tf.assign(b, a*3) # b <- a*3\n",
    "\n",
    "c = a + 1"
   ]
  },
  {
   "cell_type": "code",
   "execution_count": 67,
   "metadata": {},
   "outputs": [
    {
     "name": "stdout",
     "output_type": "stream",
     "text": [
      "1.0\n",
      "3.0\n",
      "1.0\n"
     ]
    }
   ],
   "source": [
    "with tf.Session(config=config) as sess:\n",
    "    sess.run(tf.global_variables_initializer())\n",
    "    print(sess.run(b))\n",
    "    print(sess.run(c))\n",
    "    print(sess.run(b))"
   ]
  },
  {
   "cell_type": "code",
   "execution_count": 68,
   "metadata": {},
   "outputs": [],
   "source": [
    "tf.reset_default_graph()\n",
    "\n",
    "a = tf.get_variable(name = 'a', initializer=2.0)\n",
    "b = tf.get_variable(name = 'b', initializer=1.0)\n",
    "\n",
    "dependent_op = tf.assign(b, a*3) # b <- a*3\n",
    "\n",
    "with tf.control_dependencies([dependent_op]):\n",
    "    c = a + 1"
   ]
  },
  {
   "cell_type": "code",
   "execution_count": 69,
   "metadata": {},
   "outputs": [
    {
     "name": "stdout",
     "output_type": "stream",
     "text": [
      "1.0\n",
      "3.0\n",
      "6.0\n"
     ]
    }
   ],
   "source": [
    "with tf.Session(config=config) as sess:\n",
    "    sess.run(tf.global_variables_initializer())\n",
    "    print(sess.run(b))\n",
    "    print(sess.run(c))\n",
    "    print(sess.run(b))"
   ]
  },
  {
   "cell_type": "markdown",
   "metadata": {},
   "source": [
    "---"
   ]
  },
  {
   "cell_type": "markdown",
   "metadata": {},
   "source": [
    "# **Placeholder***\n",
    "- 데이터를 subset형태(batch)로 학습하고 싶을 때 선언하는 변수"
   ]
  },
  {
   "cell_type": "code",
   "execution_count": 70,
   "metadata": {},
   "outputs": [],
   "source": [
    "tf.reset_default_graph()\n",
    "\n",
    "a = tf.placeholder(tf.float32, shape = [3,])\n",
    "b = tf.constant([5,5,5], tf.float32)\n",
    "\n",
    "c = a + b"
   ]
  },
  {
   "cell_type": "code",
   "execution_count": 71,
   "metadata": {},
   "outputs": [
    {
     "name": "stdout",
     "output_type": "stream",
     "text": [
      "[5. 5. 5.]\n"
     ]
    }
   ],
   "source": [
    "with tf.Session(config=config) as sess:\n",
    "    print(sess.run(b))"
   ]
  },
  {
   "cell_type": "code",
   "execution_count": 72,
   "metadata": {},
   "outputs": [
    {
     "name": "stdout",
     "output_type": "stream",
     "text": [
      "[6. 7. 8.]\n"
     ]
    }
   ],
   "source": [
    "with tf.Session(config=config) as sess:\n",
    "    print(sess.run(c, feed_dict = {a:[1,2,3]}))"
   ]
  },
  {
   "cell_type": "markdown",
   "metadata": {},
   "source": [
    "- dynamic shape"
   ]
  },
  {
   "cell_type": "code",
   "execution_count": 73,
   "metadata": {},
   "outputs": [],
   "source": [
    "tf.reset_default_graph()\n",
    "\n",
    "a = tf.placeholder(tf.float32, shape = [None,])\n",
    "b = tf.constant([5,5,5], tf.float32)\n",
    "c = tf.constant([5,5,5,5], tf.float32)\n",
    "sum_b = a + b\n",
    "sum_c = a + c"
   ]
  },
  {
   "cell_type": "code",
   "execution_count": 74,
   "metadata": {},
   "outputs": [
    {
     "name": "stdout",
     "output_type": "stream",
     "text": [
      "[6. 7. 8.]\n"
     ]
    }
   ],
   "source": [
    "with tf.Session(config=config) as sess:\n",
    "    print(\n",
    "        sess.run(sum_b, \n",
    "                 feed_dict = {a:[1,2,3]})\n",
    "    )"
   ]
  },
  {
   "cell_type": "code",
   "execution_count": 75,
   "metadata": {},
   "outputs": [
    {
     "name": "stdout",
     "output_type": "stream",
     "text": [
      "[6. 7. 8. 9.]\n"
     ]
    }
   ],
   "source": [
    "with tf.Session(config=config) as sess:\n",
    "    print(\n",
    "        sess.run(sum_c, \n",
    "                 feed_dict = {a:[1,2,3,4]})\n",
    "    )"
   ]
  },
  {
   "cell_type": "markdown",
   "metadata": {},
   "source": [
    "- 중간단계에 op에 값을 feed 시킬 수 있음"
   ]
  },
  {
   "cell_type": "code",
   "execution_count": 76,
   "metadata": {},
   "outputs": [],
   "source": [
    "tf.reset_default_graph()\n",
    "\n",
    "a = tf.add(2,5)\n",
    "b = tf.multiply(a,3)"
   ]
  },
  {
   "cell_type": "code",
   "execution_count": 77,
   "metadata": {},
   "outputs": [
    {
     "name": "stdout",
     "output_type": "stream",
     "text": [
      "6\n",
      "7\n"
     ]
    }
   ],
   "source": [
    "with tf.Session(config=config) as sess:\n",
    "    print(\n",
    "        sess.run(b, \n",
    "                 feed_dict = {a:2})\n",
    "    )\n",
    "    print(\n",
    "        sess.run(a)\n",
    "    )"
   ]
  },
  {
   "cell_type": "markdown",
   "metadata": {},
   "source": [
    "---"
   ]
  },
  {
   "cell_type": "markdown",
   "metadata": {},
   "source": [
    "# **loading**"
   ]
  },
  {
   "cell_type": "markdown",
   "metadata": {},
   "source": [
    "- normal loading"
   ]
  },
  {
   "cell_type": "code",
   "execution_count": 78,
   "metadata": {},
   "outputs": [
    {
     "name": "stdout",
     "output_type": "stream",
     "text": [
      "0.02189400000000008\n"
     ]
    }
   ],
   "source": [
    "tf.reset_default_graph()\n",
    "\n",
    "x = tf.get_variable(name = 'x', initializer=10)\n",
    "y = tf.get_variable(name = 'y', initializer=20)\n",
    "\n",
    "z = tf.add(x,y)\n",
    "\n",
    "time_start = time.clock()\n",
    "\n",
    "with tf.Session(config=config) as sess:\n",
    "    sess.run(tf.global_variables_initializer())\n",
    "    for _ in range(100):\n",
    "        sess.run(z)\n",
    "\n",
    "time_elapsed = (time.clock() - time_start)\n",
    "\n",
    "print(time_elapsed)"
   ]
  },
  {
   "cell_type": "markdown",
   "metadata": {},
   "source": [
    "- lazy loading (operation in session)"
   ]
  },
  {
   "cell_type": "code",
   "execution_count": 79,
   "metadata": {},
   "outputs": [
    {
     "name": "stdout",
     "output_type": "stream",
     "text": [
      "0.209368\n"
     ]
    }
   ],
   "source": [
    "tf.reset_default_graph()\n",
    "\n",
    "x = tf.get_variable(name = 'x', initializer=10)\n",
    "y = tf.get_variable(name = 'y', initializer=20)\n",
    "\n",
    "time_start = time.clock()\n",
    "\n",
    "with tf.Session(config=config) as sess:\n",
    "    sess.run(tf.global_variables_initializer())\n",
    "    for _ in range(100):\n",
    "        sess.run(tf.add(x,y))\n",
    "        \n",
    "time_elapsed = (time.clock() - time_start)\n",
    "\n",
    "print(time_elapsed)"
   ]
  }
 ],
 "metadata": {
  "kernelspec": {
   "display_name": "Python 3",
   "language": "python",
   "name": "python3"
  },
  "language_info": {
   "codemirror_mode": {
    "name": "ipython",
    "version": 3
   },
   "file_extension": ".py",
   "mimetype": "text/x-python",
   "name": "python",
   "nbconvert_exporter": "python",
   "pygments_lexer": "ipython3",
   "version": "3.6.2"
  }
 },
 "nbformat": 4,
 "nbformat_minor": 2
}
