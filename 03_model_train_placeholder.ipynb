{
 "cells": [
  {
   "cell_type": "markdown",
   "metadata": {},
   "source": [
    "# **텐서플로우 사용방법**\n",
    "- Graph 생성\n",
    "- Session 사용하여 Operation(Op) 수행"
   ]
  },
  {
   "cell_type": "markdown",
   "metadata": {},
   "source": [
    "---"
   ]
  },
  {
   "cell_type": "code",
   "execution_count": 1,
   "metadata": {},
   "outputs": [],
   "source": [
    "%matplotlib inline\n",
    "import os\n",
    "import pickle\n",
    "import tensorflow as tf\n",
    "import numpy as np\n",
    "import matplotlib.pyplot as plt\n",
    "import pandas as pd\n",
    "import math"
   ]
  },
  {
   "cell_type": "code",
   "execution_count": 2,
   "metadata": {},
   "outputs": [],
   "source": [
    "config = tf.ConfigProto()\n",
    "config.gpu_options.allow_growth=True"
   ]
  },
  {
   "cell_type": "markdown",
   "metadata": {},
   "source": [
    "- X: 시카고 도시에 있는 화재의 수\n",
    "- Y: 시카고 도시에 있는 범죄의 수"
   ]
  },
  {
   "cell_type": "code",
   "execution_count": 3,
   "metadata": {},
   "outputs": [
    {
     "data": {
      "text/html": [
       "<div>\n",
       "<style scoped>\n",
       "    .dataframe tbody tr th:only-of-type {\n",
       "        vertical-align: middle;\n",
       "    }\n",
       "\n",
       "    .dataframe tbody tr th {\n",
       "        vertical-align: top;\n",
       "    }\n",
       "\n",
       "    .dataframe thead th {\n",
       "        text-align: right;\n",
       "    }\n",
       "</style>\n",
       "<table border=\"1\" class=\"dataframe\">\n",
       "  <thead>\n",
       "    <tr style=\"text-align: right;\">\n",
       "      <th></th>\n",
       "      <th>X</th>\n",
       "      <th>Y</th>\n",
       "    </tr>\n",
       "  </thead>\n",
       "  <tbody>\n",
       "    <tr>\n",
       "      <th>0</th>\n",
       "      <td>6.2</td>\n",
       "      <td>29</td>\n",
       "    </tr>\n",
       "    <tr>\n",
       "      <th>1</th>\n",
       "      <td>9.5</td>\n",
       "      <td>44</td>\n",
       "    </tr>\n",
       "    <tr>\n",
       "      <th>2</th>\n",
       "      <td>10.5</td>\n",
       "      <td>36</td>\n",
       "    </tr>\n",
       "    <tr>\n",
       "      <th>3</th>\n",
       "      <td>7.7</td>\n",
       "      <td>37</td>\n",
       "    </tr>\n",
       "    <tr>\n",
       "      <th>4</th>\n",
       "      <td>8.6</td>\n",
       "      <td>53</td>\n",
       "    </tr>\n",
       "  </tbody>\n",
       "</table>\n",
       "</div>"
      ],
      "text/plain": [
       "      X   Y\n",
       "0   6.2  29\n",
       "1   9.5  44\n",
       "2  10.5  36\n",
       "3   7.7  37\n",
       "4   8.6  53"
      ]
     },
     "execution_count": 3,
     "metadata": {},
     "output_type": "execute_result"
    }
   ],
   "source": [
    "path = 'dataset/regression.csv'\n",
    "\n",
    "df= pd.read_csv(path)\n",
    "\n",
    "df.head(5)"
   ]
  },
  {
   "cell_type": "code",
   "execution_count": 4,
   "metadata": {},
   "outputs": [
    {
     "name": "stdout",
     "output_type": "stream",
     "text": [
      "x: [[ 6.2]\n",
      " [ 9.5]\n",
      " [10.5]\n",
      " [ 7.7]\n",
      " [ 8.6]] \n",
      "\n",
      "y: [[29.]\n",
      " [44.]\n",
      " [36.]\n",
      " [37.]\n",
      " [53.]]\n"
     ]
    }
   ],
   "source": [
    "x = df['X'].values.reshape(-1,1).astype(np.float32)\n",
    "y = df['Y'].values.reshape(-1,1).astype(np.float32)\n",
    "\n",
    "print('x:',x[:5],'\\n')\n",
    "print('y:',y[:5])"
   ]
  },
  {
   "cell_type": "code",
   "execution_count": 5,
   "metadata": {},
   "outputs": [],
   "source": [
    "def data_partition(x,y):\n",
    "    idx = np.arange(len(x))\n",
    "    np.random.shuffle(idx)\n",
    "\n",
    "    trn_idx = idx[:int(len(x)*0.6)] # 60%\n",
    "    val_idx = idx[int(len(x)*0.6):int(len(x)*0.8)] # 20%\n",
    "    tst_idx = idx[int(len(x)*0.8):] # 20%\n",
    "    \n",
    "    return {'train': {'x': x[trn_idx], \n",
    "                      'y': y[trn_idx]},\n",
    "            'valid': {'x': x[val_idx],\n",
    "                     'y': y[val_idx]},\n",
    "            'test': {'x': x[tst_idx],\n",
    "                     'y': y[tst_idx]}\n",
    "           }"
   ]
  },
  {
   "cell_type": "code",
   "execution_count": 6,
   "metadata": {},
   "outputs": [
    {
     "data": {
      "text/plain": [
       "array([[34.1],\n",
       "       [ 9.5],\n",
       "       [11.9],\n",
       "       [ 4.8],\n",
       "       [11. ],\n",
       "       [10.5],\n",
       "       [10.5],\n",
       "       [15.1],\n",
       "       [21.6],\n",
       "       [39.7],\n",
       "       [ 5.7],\n",
       "       [ 2. ],\n",
       "       [21.8],\n",
       "       [ 9. ],\n",
       "       [ 5.6],\n",
       "       [ 5. ],\n",
       "       [ 8.6],\n",
       "       [ 7.7],\n",
       "       [18.5],\n",
       "       [17.4],\n",
       "       [ 7.3],\n",
       "       [10.7],\n",
       "       [23.3],\n",
       "       [ 2.2],\n",
       "       [ 4. ]], dtype=float32)"
      ]
     },
     "execution_count": 6,
     "metadata": {},
     "output_type": "execute_result"
    }
   ],
   "source": [
    "data_dict = data_partition(x,y)\n",
    "data_dict['train']['x']"
   ]
  },
  {
   "cell_type": "code",
   "execution_count": 7,
   "metadata": {},
   "outputs": [],
   "source": [
    "with open('./dataset/data_dict.pkl', 'wb') as f:\n",
    "    pickle.dump(data_dict, f, pickle.HIGHEST_PROTOCOL)    "
   ]
  },
  {
   "cell_type": "markdown",
   "metadata": {},
   "source": [
    "$$ \\text{mean squared error} = (y - \\hat{y})^2$$\n",
    "\n",
    "$$\\hat{y} = Wx+b$$"
   ]
  },
  {
   "cell_type": "markdown",
   "metadata": {},
   "source": [
    "---"
   ]
  },
  {
   "cell_type": "markdown",
   "metadata": {},
   "source": [
    "1) **Graph 생성**\n"
   ]
  },
  {
   "cell_type": "code",
   "execution_count": 8,
   "metadata": {},
   "outputs": [],
   "source": [
    "tf.reset_default_graph()"
   ]
  },
  {
   "cell_type": "markdown",
   "metadata": {},
   "source": [
    "- graph에 흘려보내는 데이터"
   ]
  },
  {
   "cell_type": "code",
   "execution_count": 9,
   "metadata": {},
   "outputs": [],
   "source": [
    "X = tf.placeholder(shape=[None, 1], dtype=tf.float32, name = 'X')\n",
    "Y = tf.placeholder(shape=[None, 1], dtype=tf.float32, name = 'Y')"
   ]
  },
  {
   "cell_type": "markdown",
   "metadata": {},
   "source": [
    "- graph의 학습 파라미터"
   ]
  },
  {
   "cell_type": "code",
   "execution_count": 10,
   "metadata": {},
   "outputs": [
    {
     "name": "stdout",
     "output_type": "stream",
     "text": [
      "<tf.Variable 'weight:0' shape=(1, 1) dtype=float32_ref>\n",
      "<tf.Variable 'bias:0' shape=(1, 1) dtype=float32_ref>\n"
     ]
    }
   ],
   "source": [
    "W = tf.get_variable(name='weight', shape=[1,1], initializer=tf.zeros_initializer())\n",
    "b = tf.get_variable(name='bias', shape=[1,1], initializer=tf.zeros_initializer()) # trainable\n",
    "print(W)\n",
    "print(b)"
   ]
  },
  {
   "cell_type": "markdown",
   "metadata": {},
   "source": [
    "- 모델 생성"
   ]
  },
  {
   "cell_type": "code",
   "execution_count": 11,
   "metadata": {},
   "outputs": [
    {
     "data": {
      "text/plain": [
       "<tf.Tensor 'add:0' shape=(?, 1) dtype=float32>"
      ]
     },
     "execution_count": 11,
     "metadata": {},
     "output_type": "execute_result"
    }
   ],
   "source": [
    "Y_predicted = tf.matmul(X,W)+b \n",
    "Y_predicted"
   ]
  },
  {
   "cell_type": "markdown",
   "metadata": {},
   "source": [
    "- 손실함수(목적함수) 정의"
   ]
  },
  {
   "cell_type": "code",
   "execution_count": 12,
   "metadata": {},
   "outputs": [
    {
     "data": {
      "text/plain": [
       "<tf.Tensor 'MSE:0' shape=() dtype=float32>"
      ]
     },
     "execution_count": 12,
     "metadata": {},
     "output_type": "execute_result"
    }
   ],
   "source": [
    "loss = tf.reduce_mean(tf.square(Y-Y_predicted), name='MSE')\n",
    "loss"
   ]
  },
  {
   "cell_type": "markdown",
   "metadata": {},
   "source": [
    "- op object들을 효율적으로 관리하기 위해 그룹(collection)을 하거나 이름(name)을 만듬"
   ]
  },
  {
   "cell_type": "code",
   "execution_count": 13,
   "metadata": {},
   "outputs": [
    {
     "data": {
      "text/plain": [
       "[]"
      ]
     },
     "execution_count": 13,
     "metadata": {},
     "output_type": "execute_result"
    }
   ],
   "source": [
    "tf.get_collection(tf.GraphKeys.LOSSES)"
   ]
  },
  {
   "cell_type": "code",
   "execution_count": 14,
   "metadata": {},
   "outputs": [],
   "source": [
    "tf.add_to_collection(tf.GraphKeys.LOSSES, loss)"
   ]
  },
  {
   "cell_type": "markdown",
   "metadata": {},
   "source": [
    "- 아래와 같이 원하는 그래프 키에 해당되는 tensor를 불러올 수 있음"
   ]
  },
  {
   "cell_type": "code",
   "execution_count": 15,
   "metadata": {},
   "outputs": [
    {
     "data": {
      "text/plain": [
       "[<tf.Tensor 'MSE:0' shape=() dtype=float32>]"
      ]
     },
     "execution_count": 15,
     "metadata": {},
     "output_type": "execute_result"
    }
   ],
   "source": [
    "tf.get_collection(tf.GraphKeys.LOSSES)"
   ]
  },
  {
   "cell_type": "markdown",
   "metadata": {},
   "source": [
    "- 아래와 같이 원하는 그래프 키와 이름과 함께 검색하여 tensor를 불러올 수 있음"
   ]
  },
  {
   "cell_type": "code",
   "execution_count": 16,
   "metadata": {},
   "outputs": [
    {
     "data": {
      "text/plain": [
       "[<tf.Tensor 'MSE:0' shape=() dtype=float32>]"
      ]
     },
     "execution_count": 16,
     "metadata": {},
     "output_type": "execute_result"
    }
   ],
   "source": [
    "tf.get_collection(tf.GraphKeys.LOSSES, 'MSE')"
   ]
  },
  {
   "cell_type": "code",
   "execution_count": 17,
   "metadata": {},
   "outputs": [],
   "source": [
    "tf.add_to_collection('placeholders', X)\n",
    "tf.add_to_collection('placeholders', Y)\n",
    "tf.add_to_collection('pred', Y_predicted)"
   ]
  },
  {
   "cell_type": "code",
   "execution_count": 18,
   "metadata": {},
   "outputs": [
    {
     "data": {
      "text/plain": [
       "[<tf.Tensor 'X:0' shape=(?, 1) dtype=float32>,\n",
       " <tf.Tensor 'Y:0' shape=(?, 1) dtype=float32>]"
      ]
     },
     "execution_count": 18,
     "metadata": {},
     "output_type": "execute_result"
    }
   ],
   "source": [
    "tf.get_collection('placeholders')"
   ]
  },
  {
   "cell_type": "markdown",
   "metadata": {},
   "source": [
    "- 최적화"
   ]
  },
  {
   "cell_type": "code",
   "execution_count": 19,
   "metadata": {},
   "outputs": [],
   "source": [
    "optimizer = tf.train.AdamOptimizer(learning_rate=0.01)\n",
    "\n",
    "train_op = optimizer.minimize(loss)"
   ]
  },
  {
   "cell_type": "markdown",
   "metadata": {},
   "source": [
    "- **tf.train.saver**\n",
    "    - graph를 저장하는 것이 아니라, session(model parameter)을 저장\n",
    "    - save: session을 저장(write)\n",
    "    - restore: 저장된 session(parameters)를 블러옴(read) "
   ]
  },
  {
   "cell_type": "code",
   "execution_count": 20,
   "metadata": {},
   "outputs": [],
   "source": [
    "saver = tf.train.Saver()"
   ]
  },
  {
   "cell_type": "markdown",
   "metadata": {},
   "source": [
    "---"
   ]
  },
  {
   "cell_type": "markdown",
   "metadata": {},
   "source": [
    "2) **Session 사용하여 Operation(Op) 수행**\n",
    "    - Train/Development(Validation)\n",
    "    - Test"
   ]
  },
  {
   "cell_type": "markdown",
   "metadata": {},
   "source": [
    "2-1) **Train/Development(Validation)**"
   ]
  },
  {
   "cell_type": "code",
   "execution_count": 21,
   "metadata": {},
   "outputs": [],
   "source": [
    "batch_size =4\n",
    "\n",
    "trn_batch_num = math.ceil(len(data_dict['train']['x'])/batch_size)\n",
    "val_batch_num = math.ceil(len(data_dict['valid']['x'])/batch_size)\n",
    "tst_batch_num = math.ceil(len(data_dict['test']['x'])/batch_size)"
   ]
  },
  {
   "cell_type": "code",
   "execution_count": 22,
   "metadata": {},
   "outputs": [
    {
     "name": "stdout",
     "output_type": "stream",
     "text": [
      "epoch 000: trn_loss(1943.4554443359375) val_loss(658.5226440429688)\n",
      "epoch 010: trn_loss(1387.1087646484375) val_loss(370.4718933105469)\n",
      "epoch 020: trn_loss(1007.6307373046875) val_loss(229.87185668945312)\n",
      "epoch 030: trn_loss(763.7022094726562) val_loss(191.35438537597656)\n"
     ]
    }
   ],
   "source": [
    "config = tf.ConfigProto()\n",
    "config.gpu_options.allow_growth=True\n",
    "\n",
    "sess =tf.Session(config=config)\n",
    "sess.run(tf.global_variables_initializer())\n",
    "\n",
    "init_MSE = np.inf\n",
    "stop_iter = 50\n",
    "stop_counter = 0\n",
    "\n",
    "train_cumulative_loss = []    \n",
    "valid_cumulative_loss = []\n",
    "\n",
    "for i in range(5000):\n",
    "\n",
    "    # training\n",
    "    train_batch_loss = []\n",
    "    for m in range(trn_batch_num):\n",
    "        start = m*batch_size\n",
    "        end = m*batch_size+batch_size\n",
    "        x_batch = data_dict['train']['x'][start:end]\n",
    "        y_batch = data_dict['train']['y'][start:end]\n",
    "        _, _loss = sess.run([train_op, loss], feed_dict={X: x_batch, Y: y_batch})\n",
    "        train_batch_loss.append(_loss)\n",
    "\n",
    "    # development\n",
    "    valid_batch_loss = []\n",
    "    for m in range(val_batch_num):\n",
    "        start = m*batch_size\n",
    "        end = m*batch_size+batch_size\n",
    "        x_batch = data_dict['valid']['x'][start:end]\n",
    "        y_batch = data_dict['valid']['y'][start:end]\n",
    "        _loss = sess.run(loss, feed_dict={X: x_batch, Y: y_batch})\n",
    "        valid_batch_loss.append(_loss)\n",
    "\n",
    "    train_cumulative_loss.append(np.mean(train_batch_loss))\n",
    "    valid_cumulative_loss.append(np.mean(valid_batch_loss))\n",
    "    \n",
    "    stop_counter += 1   \n",
    "    \n",
    "    if i % 10 == 0:\n",
    "        if np.mean(valid_batch_loss) < init_MSE:\n",
    "            init_MSE = np.mean(valid_batch_loss)\n",
    "            saver.save(sess, './checkpoints/linear-model',global_step=i)\n",
    "            print('epoch {}:'.format(str(i).zfill(3)), \n",
    "                  'trn_loss({})'.format(np.mean(train_batch_loss)), \n",
    "                  'val_loss({})'.format(np.mean(valid_batch_loss)))\n",
    "            stop_counter = 0\n",
    "            \n",
    "    # early stopping        \n",
    "    if stop_counter >= stop_iter:\n",
    "        break"
   ]
  },
  {
   "cell_type": "code",
   "execution_count": 23,
   "metadata": {},
   "outputs": [
    {
     "data": {
      "text/plain": [
       "<matplotlib.legend.Legend at 0x7f76e84bdb70>"
      ]
     },
     "execution_count": 23,
     "metadata": {},
     "output_type": "execute_result"
    },
    {
     "data": {
      "image/png": "[encoded data removed]",
      "text/plain": [
       "<Figure size 432x288 with 1 Axes>"
      ]
     },
     "metadata": {},
     "output_type": "display_data"
    }
   ],
   "source": [
    "plt.plot(train_cumulative_loss, label = 'train loss')\n",
    "plt.plot(valid_cumulative_loss, label = 'valid loss')\n",
    "plt.legend()"
   ]
  },
  {
   "cell_type": "code",
   "execution_count": 24,
   "metadata": {},
   "outputs": [
    {
     "data": {
      "text/plain": [
       "<matplotlib.legend.Legend at 0x7f76e8443f60>"
      ]
     },
     "execution_count": 24,
     "metadata": {},
     "output_type": "execute_result"
    },
    {
     "data": {
      "image/png": "[encoded data removed]",
      "text/plain": [
       "<Figure size 432x288 with 1 Axes>"
      ]
     },
     "metadata": {},
     "output_type": "display_data"
    }
   ],
   "source": [
    "plt.plot(train_cumulative_loss[25:125], label = 'train loss')\n",
    "plt.plot(valid_cumulative_loss[25:125], label = 'valid loss')\n",
    "plt.legend()"
   ]
  },
  {
   "cell_type": "markdown",
   "metadata": {},
   "source": [
    "$$\\hat{y} = Wx+b$$"
   ]
  },
  {
   "cell_type": "code",
   "execution_count": 25,
   "metadata": {},
   "outputs": [
    {
     "data": {
      "text/plain": [
       "array([[2.2565587]], dtype=float32)"
      ]
     },
     "execution_count": 25,
     "metadata": {},
     "output_type": "execute_result"
    }
   ],
   "source": [
    "sess.run(W)"
   ]
  },
  {
   "cell_type": "code",
   "execution_count": 26,
   "metadata": {},
   "outputs": [
    {
     "data": {
      "text/plain": [
       "array([[3.3299823]], dtype=float32)"
      ]
     },
     "execution_count": 26,
     "metadata": {},
     "output_type": "execute_result"
    }
   ],
   "source": [
    "sess.run(b)"
   ]
  },
  {
   "cell_type": "code",
   "execution_count": 27,
   "metadata": {},
   "outputs": [],
   "source": [
    "sess.close()"
   ]
  }
 ],
 "metadata": {
  "kernelspec": {
   "display_name": "Python 3",
   "language": "python",
   "name": "python3"
  },
  "language_info": {
   "codemirror_mode": {
    "name": "ipython",
    "version": 3
   },
   "file_extension": ".py",
   "mimetype": "text/x-python",
   "name": "python",
   "nbconvert_exporter": "python",
   "pygments_lexer": "ipython3",
   "version": "3.6.2"
  }
 },
 "nbformat": 4,
 "nbformat_minor": 2
}
