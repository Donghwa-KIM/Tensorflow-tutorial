{
 "cells": [
  {
   "cell_type": "markdown",
   "metadata": {},
   "source": [
    "# **tf.data**\n",
    "- tf.placeholder 대안으로 더 학습속도가 빠른 tf.data가 주로 사용되고 있음"
   ]
  },
  {
   "cell_type": "markdown",
   "metadata": {},
   "source": [
    "```python\n",
    "tf.data.Dataset\n",
    "tf.data.Iterator\n",
    "```"
   ]
  },
  {
   "cell_type": "markdown",
   "metadata": {},
   "source": [
    "1. Dataset 선언\n",
    "2. Iterator 설정\n",
    "3. get_next"
   ]
  },
  {
   "cell_type": "markdown",
   "metadata": {},
   "source": [
    "---"
   ]
  },
  {
   "cell_type": "code",
   "execution_count": 1,
   "metadata": {},
   "outputs": [],
   "source": [
    "%matplotlib inline\n",
    "import tensorflow as tf\n",
    "import numpy as np\n",
    "import matplotlib.pyplot as plt\n",
    "import pandas as pd\n",
    "import math"
   ]
  },
  {
   "cell_type": "markdown",
   "metadata": {},
   "source": [
    "- X: 시카고 도시에 있는 화재의 수\n",
    "- Y: 시카고 도시에 있는 범죄의 수"
   ]
  },
  {
   "cell_type": "code",
   "execution_count": 2,
   "metadata": {},
   "outputs": [
    {
     "data": {
      "text/html": [
       "<div>\n",
       "<style scoped>\n",
       "    .dataframe tbody tr th:only-of-type {\n",
       "        vertical-align: middle;\n",
       "    }\n",
       "\n",
       "    .dataframe tbody tr th {\n",
       "        vertical-align: top;\n",
       "    }\n",
       "\n",
       "    .dataframe thead th {\n",
       "        text-align: right;\n",
       "    }\n",
       "</style>\n",
       "<table border=\"1\" class=\"dataframe\">\n",
       "  <thead>\n",
       "    <tr style=\"text-align: right;\">\n",
       "      <th></th>\n",
       "      <th>X</th>\n",
       "      <th>Y</th>\n",
       "    </tr>\n",
       "  </thead>\n",
       "  <tbody>\n",
       "    <tr>\n",
       "      <th>0</th>\n",
       "      <td>6.2</td>\n",
       "      <td>29</td>\n",
       "    </tr>\n",
       "    <tr>\n",
       "      <th>1</th>\n",
       "      <td>9.5</td>\n",
       "      <td>44</td>\n",
       "    </tr>\n",
       "    <tr>\n",
       "      <th>2</th>\n",
       "      <td>10.5</td>\n",
       "      <td>36</td>\n",
       "    </tr>\n",
       "    <tr>\n",
       "      <th>3</th>\n",
       "      <td>7.7</td>\n",
       "      <td>37</td>\n",
       "    </tr>\n",
       "    <tr>\n",
       "      <th>4</th>\n",
       "      <td>8.6</td>\n",
       "      <td>53</td>\n",
       "    </tr>\n",
       "  </tbody>\n",
       "</table>\n",
       "</div>"
      ],
      "text/plain": [
       "      X   Y\n",
       "0   6.2  29\n",
       "1   9.5  44\n",
       "2  10.5  36\n",
       "3   7.7  37\n",
       "4   8.6  53"
      ]
     },
     "execution_count": 2,
     "metadata": {},
     "output_type": "execute_result"
    }
   ],
   "source": [
    "path = 'dataset/regression.csv'\n",
    "\n",
    "df= pd.read_csv(path)\n",
    "\n",
    "df.head(5)"
   ]
  },
  {
   "cell_type": "code",
   "execution_count": 3,
   "metadata": {},
   "outputs": [
    {
     "name": "stdout",
     "output_type": "stream",
     "text": [
      "x: [[ 6.2]\n",
      " [ 9.5]\n",
      " [10.5]\n",
      " [ 7.7]\n",
      " [ 8.6]] \n",
      "\n",
      "y: [[29.]\n",
      " [44.]\n",
      " [36.]\n",
      " [37.]\n",
      " [53.]]\n"
     ]
    }
   ],
   "source": [
    "x = df['X'].values.reshape(-1,1).astype(np.float32)\n",
    "y = df['Y'].values.reshape(-1,1).astype(np.float32)\n",
    "print('x:',x[:5],'\\n')\n",
    "print('y:',y[:5])"
   ]
  },
  {
   "cell_type": "code",
   "execution_count": 4,
   "metadata": {},
   "outputs": [],
   "source": [
    "def data_partition(x,y):\n",
    "    idx = np.arange(len(x))\n",
    "    np.random.shuffle(idx)\n",
    "\n",
    "    trn_idx = idx[:int(len(x)*0.6)] # 60%\n",
    "    val_idx = idx[int(len(x)*0.6):int(len(x)*0.8)] # 20%\n",
    "    tst_idx = idx[int(len(x)*0.8):] # 20%\n",
    "    \n",
    "    return {'train': {'x': x[trn_idx], \n",
    "                      'y': y[trn_idx]},\n",
    "            'valid': {'x': x[val_idx],\n",
    "                     'y': y[val_idx]},\n",
    "            'test': {'x': x[tst_idx],\n",
    "                     'y': y[tst_idx]}\n",
    "           }"
   ]
  },
  {
   "cell_type": "code",
   "execution_count": 5,
   "metadata": {},
   "outputs": [
    {
     "data": {
      "text/plain": [
       "array([[ 7.7],\n",
       "       [36.2],\n",
       "       [ 7.3],\n",
       "       [21.6],\n",
       "       [11. ],\n",
       "       [ 2.2],\n",
       "       [ 4. ],\n",
       "       [ 5.6],\n",
       "       [ 5.4],\n",
       "       [18.4],\n",
       "       [ 2.5],\n",
       "       [ 8.6],\n",
       "       [28.6],\n",
       "       [15.1],\n",
       "       [ 7.2],\n",
       "       [ 6.9],\n",
       "       [39.7],\n",
       "       [ 9.5],\n",
       "       [15.1],\n",
       "       [23.3],\n",
       "       [ 3.6],\n",
       "       [17.4],\n",
       "       [10.5],\n",
       "       [11.9],\n",
       "       [12.2]], dtype=float32)"
      ]
     },
     "execution_count": 5,
     "metadata": {},
     "output_type": "execute_result"
    }
   ],
   "source": [
    "data_dict = data_partition(x,y)\n",
    "data_dict['train']['x']"
   ]
  },
  {
   "cell_type": "markdown",
   "metadata": {},
   "source": [
    "$$ \\text{mean squared error} = (y - \\hat{y})^2$$\n",
    "\n",
    "$$\\hat{y} = Wx+b$$"
   ]
  },
  {
   "cell_type": "markdown",
   "metadata": {},
   "source": [
    "---"
   ]
  },
  {
   "cell_type": "code",
   "execution_count": 6,
   "metadata": {},
   "outputs": [],
   "source": [
    "# tensors=(features, labels)\n",
    "dataset = tf.data.Dataset.from_tensor_slices(tensors=(data_dict['train']['x'], data_dict['train']['y']))"
   ]
  },
  {
   "cell_type": "markdown",
   "metadata": {},
   "source": [
    "- shuffle: shuffle할 데이터의 수를 설정하게 됨(데이터의 수 만큼)\n",
    "- repeat: 데이터를 n번 반복하여 읽음 (n epoch)\n",
    "- batch: "
   ]
  },
  {
   "cell_type": "code",
   "execution_count": 7,
   "metadata": {},
   "outputs": [],
   "source": [
    "dataset_shuffle = dataset.shuffle(2) # buffer_size\n",
    "dataset_repeat = dataset.repeat(2) # \n",
    "batch_size = 4\n",
    "dataset_batch = dataset.batch(batch_size)"
   ]
  },
  {
   "cell_type": "code",
   "execution_count": 8,
   "metadata": {},
   "outputs": [
    {
     "name": "stdout",
     "output_type": "stream",
     "text": [
      "(tf.float32, tf.float32)\n",
      "(TensorShape([Dimension(1)]), TensorShape([Dimension(1)]))\n"
     ]
    }
   ],
   "source": [
    "print(dataset.output_types)\n",
    "print(dataset.output_shapes)"
   ]
  },
  {
   "cell_type": "markdown",
   "metadata": {},
   "source": [
    "1) **dataset.make_one_shot_iterator()**\n",
    "    - dataset를 한번만 iterate하게 읽을 수 있음 (1 epoch)\n",
    "    - initialization을 할 필요가 없음"
   ]
  },
  {
   "cell_type": "code",
   "execution_count": 9,
   "metadata": {},
   "outputs": [],
   "source": [
    "iterator1 = dataset.make_one_shot_iterator()\n",
    "iterator2 = dataset_shuffle.make_one_shot_iterator()\n",
    "iterator3 = dataset_repeat.make_one_shot_iterator()\n",
    "iterator4 = dataset_batch.make_one_shot_iterator()\n",
    "\n",
    "X1, Y1 = iterator1.get_next()\n",
    "X2, Y2 = iterator2.get_next()\n",
    "X3, Y3 = iterator3.get_next()\n",
    "X4, Y4 = iterator4.get_next()"
   ]
  },
  {
   "cell_type": "code",
   "execution_count": 10,
   "metadata": {},
   "outputs": [
    {
     "name": "stdout",
     "output_type": "stream",
     "text": [
      "[array([7.7], dtype=float32), array([37.], dtype=float32)]\n",
      "[array([36.2], dtype=float32), array([41.], dtype=float32)]\n",
      "[array([7.3], dtype=float32), array([31.], dtype=float32)]\n",
      "[array([21.6], dtype=float32), array([31.], dtype=float32)]\n",
      "[array([11.], dtype=float32), array([75.], dtype=float32)]\n",
      "[array([2.2], dtype=float32), array([9.], dtype=float32)]\n",
      "[array([4.], dtype=float32), array([16.], dtype=float32)]\n",
      "[array([5.6], dtype=float32), array([23.], dtype=float32)]\n",
      "[array([5.4], dtype=float32), array([27.], dtype=float32)]\n",
      "[array([18.4], dtype=float32), array([32.], dtype=float32)]\n",
      "[array([2.5], dtype=float32), array([22.], dtype=float32)]\n",
      "[array([8.6], dtype=float32), array([53.], dtype=float32)]\n",
      "[array([28.6], dtype=float32), array([27.], dtype=float32)]\n",
      "[array([15.1], dtype=float32), array([30.], dtype=float32)]\n",
      "[array([7.2], dtype=float32), array([29.], dtype=float32)]\n",
      "[array([6.9], dtype=float32), array([18.], dtype=float32)]\n",
      "[array([39.7], dtype=float32), array([147.], dtype=float32)]\n",
      "[array([9.5], dtype=float32), array([44.], dtype=float32)]\n",
      "[array([15.1], dtype=float32), array([25.], dtype=float32)]\n",
      "[array([23.3], dtype=float32), array([29.], dtype=float32)]\n",
      "[array([3.6], dtype=float32), array([15.], dtype=float32)]\n",
      "[array([17.4], dtype=float32), array([32.], dtype=float32)]\n",
      "[array([10.5], dtype=float32), array([36.], dtype=float32)]\n",
      "[array([11.9], dtype=float32), array([46.], dtype=float32)]\n",
      "[array([12.2], dtype=float32), array([46.], dtype=float32)]\n"
     ]
    }
   ],
   "source": [
    "# basic\n",
    "with tf.Session() as sess:\n",
    "    for i in range(len(data_dict['train']['x'])):\n",
    "        print(sess.run([X1, Y1]))"
   ]
  },
  {
   "cell_type": "code",
   "execution_count": 11,
   "metadata": {},
   "outputs": [
    {
     "name": "stdout",
     "output_type": "stream",
     "text": [
      "[array([7.7], dtype=float32), array([37.], dtype=float32)]\n",
      "[array([7.3], dtype=float32), array([31.], dtype=float32)]\n",
      "[array([36.2], dtype=float32), array([41.], dtype=float32)]\n",
      "[array([11.], dtype=float32), array([75.], dtype=float32)]\n",
      "[array([21.6], dtype=float32), array([31.], dtype=float32)]\n",
      "[array([2.2], dtype=float32), array([9.], dtype=float32)]\n",
      "[array([4.], dtype=float32), array([16.], dtype=float32)]\n",
      "[array([5.4], dtype=float32), array([27.], dtype=float32)]\n",
      "[array([18.4], dtype=float32), array([32.], dtype=float32)]\n",
      "[array([5.6], dtype=float32), array([23.], dtype=float32)]\n",
      "[array([8.6], dtype=float32), array([53.], dtype=float32)]\n",
      "[array([28.6], dtype=float32), array([27.], dtype=float32)]\n",
      "[array([15.1], dtype=float32), array([30.], dtype=float32)]\n",
      "[array([2.5], dtype=float32), array([22.], dtype=float32)]\n",
      "[array([6.9], dtype=float32), array([18.], dtype=float32)]\n",
      "[array([39.7], dtype=float32), array([147.], dtype=float32)]\n",
      "[array([7.2], dtype=float32), array([29.], dtype=float32)]\n",
      "[array([9.5], dtype=float32), array([44.], dtype=float32)]\n",
      "[array([23.3], dtype=float32), array([29.], dtype=float32)]\n",
      "[array([3.6], dtype=float32), array([15.], dtype=float32)]\n",
      "[array([17.4], dtype=float32), array([32.], dtype=float32)]\n",
      "[array([10.5], dtype=float32), array([36.], dtype=float32)]\n",
      "[array([15.1], dtype=float32), array([25.], dtype=float32)]\n",
      "[array([11.9], dtype=float32), array([46.], dtype=float32)]\n",
      "[array([12.2], dtype=float32), array([46.], dtype=float32)]\n"
     ]
    }
   ],
   "source": [
    "# shuffle(2)\n",
    "with tf.Session() as sess:\n",
    "    for i in range(len(data_dict['train']['x'])):\n",
    "        print(sess.run([X2, Y2]))"
   ]
  },
  {
   "cell_type": "code",
   "execution_count": 12,
   "metadata": {},
   "outputs": [
    {
     "name": "stdout",
     "output_type": "stream",
     "text": [
      "[array([7.7], dtype=float32), array([37.], dtype=float32)]\n",
      "[array([36.2], dtype=float32), array([41.], dtype=float32)]\n",
      "[array([7.3], dtype=float32), array([31.], dtype=float32)]\n",
      "[array([21.6], dtype=float32), array([31.], dtype=float32)]\n",
      "[array([11.], dtype=float32), array([75.], dtype=float32)]\n",
      "[array([2.2], dtype=float32), array([9.], dtype=float32)]\n",
      "[array([4.], dtype=float32), array([16.], dtype=float32)]\n",
      "[array([5.6], dtype=float32), array([23.], dtype=float32)]\n",
      "[array([5.4], dtype=float32), array([27.], dtype=float32)]\n",
      "[array([18.4], dtype=float32), array([32.], dtype=float32)]\n",
      "[array([2.5], dtype=float32), array([22.], dtype=float32)]\n",
      "[array([8.6], dtype=float32), array([53.], dtype=float32)]\n",
      "[array([28.6], dtype=float32), array([27.], dtype=float32)]\n",
      "[array([15.1], dtype=float32), array([30.], dtype=float32)]\n",
      "[array([7.2], dtype=float32), array([29.], dtype=float32)]\n",
      "[array([6.9], dtype=float32), array([18.], dtype=float32)]\n",
      "[array([39.7], dtype=float32), array([147.], dtype=float32)]\n",
      "[array([9.5], dtype=float32), array([44.], dtype=float32)]\n",
      "[array([15.1], dtype=float32), array([25.], dtype=float32)]\n",
      "[array([23.3], dtype=float32), array([29.], dtype=float32)]\n",
      "[array([3.6], dtype=float32), array([15.], dtype=float32)]\n",
      "[array([17.4], dtype=float32), array([32.], dtype=float32)]\n",
      "[array([10.5], dtype=float32), array([36.], dtype=float32)]\n",
      "[array([11.9], dtype=float32), array([46.], dtype=float32)]\n",
      "[array([12.2], dtype=float32), array([46.], dtype=float32)]\n",
      "[array([7.7], dtype=float32), array([37.], dtype=float32)]\n",
      "[array([36.2], dtype=float32), array([41.], dtype=float32)]\n",
      "[array([7.3], dtype=float32), array([31.], dtype=float32)]\n",
      "[array([21.6], dtype=float32), array([31.], dtype=float32)]\n",
      "[array([11.], dtype=float32), array([75.], dtype=float32)]\n",
      "[array([2.2], dtype=float32), array([9.], dtype=float32)]\n",
      "[array([4.], dtype=float32), array([16.], dtype=float32)]\n",
      "[array([5.6], dtype=float32), array([23.], dtype=float32)]\n",
      "[array([5.4], dtype=float32), array([27.], dtype=float32)]\n",
      "[array([18.4], dtype=float32), array([32.], dtype=float32)]\n",
      "[array([2.5], dtype=float32), array([22.], dtype=float32)]\n",
      "[array([8.6], dtype=float32), array([53.], dtype=float32)]\n",
      "[array([28.6], dtype=float32), array([27.], dtype=float32)]\n",
      "[array([15.1], dtype=float32), array([30.], dtype=float32)]\n",
      "[array([7.2], dtype=float32), array([29.], dtype=float32)]\n",
      "[array([6.9], dtype=float32), array([18.], dtype=float32)]\n",
      "[array([39.7], dtype=float32), array([147.], dtype=float32)]\n",
      "[array([9.5], dtype=float32), array([44.], dtype=float32)]\n",
      "[array([15.1], dtype=float32), array([25.], dtype=float32)]\n",
      "[array([23.3], dtype=float32), array([29.], dtype=float32)]\n",
      "[array([3.6], dtype=float32), array([15.], dtype=float32)]\n",
      "[array([17.4], dtype=float32), array([32.], dtype=float32)]\n",
      "[array([10.5], dtype=float32), array([36.], dtype=float32)]\n",
      "[array([11.9], dtype=float32), array([46.], dtype=float32)]\n",
      "[array([12.2], dtype=float32), array([46.], dtype=float32)]\n"
     ]
    }
   ],
   "source": [
    "# repeat(2)\n",
    "with tf.Session() as sess:\n",
    "    for i in range(len(data_dict['train']['x'])*2):\n",
    "        print(sess.run([X3, Y3]))"
   ]
  },
  {
   "cell_type": "code",
   "execution_count": 13,
   "metadata": {},
   "outputs": [
    {
     "name": "stdout",
     "output_type": "stream",
     "text": [
      "[array([[ 7.7],\n",
      "       [36.2],\n",
      "       [ 7.3],\n",
      "       [21.6]], dtype=float32), array([[37.],\n",
      "       [41.],\n",
      "       [31.],\n",
      "       [31.]], dtype=float32)]\n",
      "[array([[11. ],\n",
      "       [ 2.2],\n",
      "       [ 4. ],\n",
      "       [ 5.6]], dtype=float32), array([[75.],\n",
      "       [ 9.],\n",
      "       [16.],\n",
      "       [23.]], dtype=float32)]\n",
      "[array([[ 5.4],\n",
      "       [18.4],\n",
      "       [ 2.5],\n",
      "       [ 8.6]], dtype=float32), array([[27.],\n",
      "       [32.],\n",
      "       [22.],\n",
      "       [53.]], dtype=float32)]\n",
      "[array([[28.6],\n",
      "       [15.1],\n",
      "       [ 7.2],\n",
      "       [ 6.9]], dtype=float32), array([[27.],\n",
      "       [30.],\n",
      "       [29.],\n",
      "       [18.]], dtype=float32)]\n",
      "[array([[39.7],\n",
      "       [ 9.5],\n",
      "       [15.1],\n",
      "       [23.3]], dtype=float32), array([[147.],\n",
      "       [ 44.],\n",
      "       [ 25.],\n",
      "       [ 29.]], dtype=float32)]\n",
      "[array([[ 3.6],\n",
      "       [17.4],\n",
      "       [10.5],\n",
      "       [11.9]], dtype=float32), array([[15.],\n",
      "       [32.],\n",
      "       [36.],\n",
      "       [46.]], dtype=float32)]\n",
      "[array([[12.2]], dtype=float32), array([[46.]], dtype=float32)]\n"
     ]
    }
   ],
   "source": [
    "# batch(2)\n",
    "with tf.Session() as sess:\n",
    "    for i in range(math.ceil((len(data_dict['train']['x'])/batch_size))):\n",
    "        print(sess.run([X4, Y4]))"
   ]
  },
  {
   "cell_type": "markdown",
   "metadata": {},
   "source": [
    "2) **dataset.make_initializable_iterator()***\n",
    "    - dataset를 원하는 만큼 iterate하게 읽을 수 있음 (n epoch)\n",
    "    - initialization을 해주어"
   ]
  },
  {
   "cell_type": "code",
   "execution_count": 14,
   "metadata": {},
   "outputs": [],
   "source": [
    "iterator = dataset_batch.make_initializable_iterator()\n",
    "X, Y = iterator.get_next()"
   ]
  },
  {
   "cell_type": "code",
   "execution_count": 15,
   "metadata": {},
   "outputs": [
    {
     "name": "stdout",
     "output_type": "stream",
     "text": [
      "[array([[ 7.7],\n",
      "       [36.2],\n",
      "       [ 7.3],\n",
      "       [21.6]], dtype=float32), array([[37.],\n",
      "       [41.],\n",
      "       [31.],\n",
      "       [31.]], dtype=float32)]\n",
      "[array([[11. ],\n",
      "       [ 2.2],\n",
      "       [ 4. ],\n",
      "       [ 5.6]], dtype=float32), array([[75.],\n",
      "       [ 9.],\n",
      "       [16.],\n",
      "       [23.]], dtype=float32)]\n",
      "[array([[ 5.4],\n",
      "       [18.4],\n",
      "       [ 2.5],\n",
      "       [ 8.6]], dtype=float32), array([[27.],\n",
      "       [32.],\n",
      "       [22.],\n",
      "       [53.]], dtype=float32)]\n",
      "[array([[28.6],\n",
      "       [15.1],\n",
      "       [ 7.2],\n",
      "       [ 6.9]], dtype=float32), array([[27.],\n",
      "       [30.],\n",
      "       [29.],\n",
      "       [18.]], dtype=float32)]\n",
      "[array([[39.7],\n",
      "       [ 9.5],\n",
      "       [15.1],\n",
      "       [23.3]], dtype=float32), array([[147.],\n",
      "       [ 44.],\n",
      "       [ 25.],\n",
      "       [ 29.]], dtype=float32)]\n",
      "[array([[ 3.6],\n",
      "       [17.4],\n",
      "       [10.5],\n",
      "       [11.9]], dtype=float32), array([[15.],\n",
      "       [32.],\n",
      "       [36.],\n",
      "       [46.]], dtype=float32)]\n",
      "[array([[12.2]], dtype=float32), array([[46.]], dtype=float32)]\n",
      "[array([[ 7.7],\n",
      "       [36.2],\n",
      "       [ 7.3],\n",
      "       [21.6]], dtype=float32), array([[37.],\n",
      "       [41.],\n",
      "       [31.],\n",
      "       [31.]], dtype=float32)]\n",
      "[array([[11. ],\n",
      "       [ 2.2],\n",
      "       [ 4. ],\n",
      "       [ 5.6]], dtype=float32), array([[75.],\n",
      "       [ 9.],\n",
      "       [16.],\n",
      "       [23.]], dtype=float32)]\n",
      "[array([[ 5.4],\n",
      "       [18.4],\n",
      "       [ 2.5],\n",
      "       [ 8.6]], dtype=float32), array([[27.],\n",
      "       [32.],\n",
      "       [22.],\n",
      "       [53.]], dtype=float32)]\n",
      "[array([[28.6],\n",
      "       [15.1],\n",
      "       [ 7.2],\n",
      "       [ 6.9]], dtype=float32), array([[27.],\n",
      "       [30.],\n",
      "       [29.],\n",
      "       [18.]], dtype=float32)]\n",
      "[array([[39.7],\n",
      "       [ 9.5],\n",
      "       [15.1],\n",
      "       [23.3]], dtype=float32), array([[147.],\n",
      "       [ 44.],\n",
      "       [ 25.],\n",
      "       [ 29.]], dtype=float32)]\n",
      "[array([[ 3.6],\n",
      "       [17.4],\n",
      "       [10.5],\n",
      "       [11.9]], dtype=float32), array([[15.],\n",
      "       [32.],\n",
      "       [36.],\n",
      "       [46.]], dtype=float32)]\n",
      "[array([[12.2]], dtype=float32), array([[46.]], dtype=float32)]\n"
     ]
    }
   ],
   "source": [
    "with tf.Session() as sess:\n",
    "    for epoch in range(2):\n",
    "        sess.run(iterator.initializer) # only one\n",
    "        for i in range(math.ceil((len(data_dict['train']['x'])/batch_size))):\n",
    "            print(sess.run([X, Y]))"
   ]
  },
  {
   "cell_type": "markdown",
   "metadata": {},
   "source": [
    "---"
   ]
  },
  {
   "cell_type": "markdown",
   "metadata": {},
   "source": [
    "1) **Graph 생성**\n"
   ]
  },
  {
   "cell_type": "code",
   "execution_count": 16,
   "metadata": {},
   "outputs": [],
   "source": [
    "tf.reset_default_graph()"
   ]
  },
  {
   "cell_type": "markdown",
   "metadata": {},
   "source": [
    "- graph에 흘려보내는 데이터"
   ]
  },
  {
   "cell_type": "code",
   "execution_count": 17,
   "metadata": {},
   "outputs": [],
   "source": [
    "batch_size = tf.placeholder(tf.int64)\n",
    "x = tf.placeholder(shape=[None, 1], dtype=tf.float32, name = 'X')\n",
    "y = tf.placeholder(shape=[None, 1], dtype=tf.float32, name = 'Y')"
   ]
  },
  {
   "cell_type": "markdown",
   "metadata": {},
   "source": [
    "1) Dataset"
   ]
  },
  {
   "cell_type": "code",
   "execution_count": 18,
   "metadata": {},
   "outputs": [],
   "source": [
    "dataset = tf.data.Dataset.from_tensor_slices(tensors=(x, y)).batch(batch_size)"
   ]
  },
  {
   "cell_type": "markdown",
   "metadata": {},
   "source": [
    "2) Iterator"
   ]
  },
  {
   "cell_type": "code",
   "execution_count": 19,
   "metadata": {},
   "outputs": [],
   "source": [
    "iterator = dataset.make_initializable_iterator()"
   ]
  },
  {
   "cell_type": "markdown",
   "metadata": {},
   "source": [
    "3) get.next (dynamic)"
   ]
  },
  {
   "cell_type": "code",
   "execution_count": 20,
   "metadata": {},
   "outputs": [],
   "source": [
    "X, Y = iterator.get_next()"
   ]
  },
  {
   "cell_type": "markdown",
   "metadata": {},
   "source": [
    "- graph의 학습 파라미터"
   ]
  },
  {
   "cell_type": "code",
   "execution_count": 21,
   "metadata": {},
   "outputs": [
    {
     "name": "stdout",
     "output_type": "stream",
     "text": [
      "<tf.Variable 'weight:0' shape=(1, 1) dtype=float32_ref>\n",
      "<tf.Variable 'bias:0' shape=(1, 1) dtype=float32_ref>\n"
     ]
    }
   ],
   "source": [
    "W = tf.get_variable(name='weight', shape=[1,1], initializer=tf.zeros_initializer())\n",
    "b = tf.get_variable(name='bias', shape=[1,1], initializer=tf.zeros_initializer()) # trainable\n",
    "print(W)\n",
    "print(b)"
   ]
  },
  {
   "cell_type": "markdown",
   "metadata": {},
   "source": [
    "- 모델 생성"
   ]
  },
  {
   "cell_type": "code",
   "execution_count": 22,
   "metadata": {},
   "outputs": [
    {
     "data": {
      "text/plain": [
       "<tf.Tensor 'add:0' shape=(?, 1) dtype=float32>"
      ]
     },
     "execution_count": 22,
     "metadata": {},
     "output_type": "execute_result"
    }
   ],
   "source": [
    "Y_predicted = tf.matmul(X,W)+b \n",
    "Y_predicted"
   ]
  },
  {
   "cell_type": "markdown",
   "metadata": {},
   "source": [
    "- 손실함수(목적함수) 정의"
   ]
  },
  {
   "cell_type": "code",
   "execution_count": 23,
   "metadata": {},
   "outputs": [
    {
     "data": {
      "text/plain": [
       "<tf.Tensor 'Mean:0' shape=() dtype=float32>"
      ]
     },
     "execution_count": 23,
     "metadata": {},
     "output_type": "execute_result"
    }
   ],
   "source": [
    "loss = tf.reduce_mean(tf.square(Y-Y_predicted))\n",
    "loss"
   ]
  },
  {
   "cell_type": "markdown",
   "metadata": {},
   "source": [
    "- 최적화"
   ]
  },
  {
   "cell_type": "code",
   "execution_count": 24,
   "metadata": {},
   "outputs": [],
   "source": [
    "optimizer = tf.train.AdamOptimizer(learning_rate=0.01)\n",
    "\n",
    "train_op = optimizer.minimize(loss)"
   ]
  },
  {
   "cell_type": "markdown",
   "metadata": {},
   "source": [
    "---"
   ]
  },
  {
   "cell_type": "markdown",
   "metadata": {},
   "source": [
    "2) **Session 사용하여 Operation(Op) 수행**\n",
    "    - Train/Development(Validation)\n",
    "    - Test"
   ]
  },
  {
   "cell_type": "markdown",
   "metadata": {},
   "source": [
    "2-1) **Train/Development(Validation)**"
   ]
  },
  {
   "cell_type": "code",
   "execution_count": 25,
   "metadata": {},
   "outputs": [
    {
     "name": "stdout",
     "output_type": "stream",
     "text": [
      "epoch 000: trn_loss(2010.9951171875) val_loss(1140.1640625)\n",
      "epoch 200: trn_loss(471.3904113769531) val_loss(350.7023620605469)\n",
      "epoch 400: trn_loss(445.3528137207031) val_loss(324.48443603515625)\n",
      "epoch 600: trn_loss(431.7560119628906) val_loss(312.0872497558594)\n",
      "epoch 800: trn_loss(425.81103515625) val_loss(307.6693115234375)\n"
     ]
    }
   ],
   "source": [
    "config = tf.ConfigProto()\n",
    "config.gpu_options.allow_growth=True\n",
    "\n",
    "sess = tf.Session()\n",
    "\n",
    "sess.run(tf.global_variables_initializer())\n",
    "\n",
    "train_cumulative_loss = []    \n",
    "valid_cumulative_loss = []\n",
    "\n",
    "for i in range(1000):\n",
    "\n",
    "    # training\n",
    "    sess.run(iterator.initializer,feed_dict={x:data_dict['train']['x'],\n",
    "                                             y: data_dict['train']['y'],\n",
    "                                             batch_size: 4})\n",
    "    train_batch_loss = []\n",
    "    try:\n",
    "        while True:\n",
    "            _, _X, _loss = sess.run([train_op, X, loss]) # loss op를 한 번 가져올 때 batch 1개가 읽힘\n",
    "            #print('train:',_X, _loss)\n",
    "            train_batch_loss.append(_loss)\n",
    "            \n",
    "    except tf.errors.OutOfRangeError: \n",
    "        pass\n",
    "\n",
    "    \n",
    "    # development\n",
    "    sess.run(iterator.initializer,feed_dict={x:data_dict['valid']['x'],\n",
    "                                             y: data_dict['valid']['y'],\n",
    "                                             batch_size: 4})\n",
    "    \n",
    "    valid_batch_loss = []\n",
    "    try:\n",
    "        while True:\n",
    "            _X, _loss = sess.run([X,loss]) # dependency\n",
    "            #print('valid:',_X, _loss)\n",
    "            valid_batch_loss.append(_loss)\n",
    "            \n",
    "    except tf.errors.OutOfRangeError: \n",
    "        pass\n",
    "\n",
    "\n",
    "    train_cumulative_loss.append(np.mean(train_batch_loss))\n",
    "    valid_cumulative_loss.append(np.mean(valid_batch_loss))\n",
    "    \n",
    "    if i % 200 == 0:\n",
    "        print('epoch {}:'.format(str(i).zfill(3)), \n",
    "              'trn_loss({})'.format(np.mean(train_batch_loss)), \n",
    "              'val_loss({})'.format(np.mean(valid_batch_loss)))"
   ]
  },
  {
   "cell_type": "code",
   "execution_count": 26,
   "metadata": {},
   "outputs": [
    {
     "data": {
      "text/plain": [
       "<matplotlib.legend.Legend at 0x7f17b06078d0>"
      ]
     },
     "execution_count": 26,
     "metadata": {},
     "output_type": "execute_result"
    },
    {
     "data": {
      "image/png": "[encoded data removed]",
      "text/plain": [
       "<Figure size 432x288 with 1 Axes>"
      ]
     },
     "metadata": {},
     "output_type": "display_data"
    }
   ],
   "source": [
    "plt.plot(train_cumulative_loss, label = 'train loss')\n",
    "plt.plot(valid_cumulative_loss, label = 'valid loss')\n",
    "plt.legend()"
   ]
  },
  {
   "cell_type": "code",
   "execution_count": 27,
   "metadata": {},
   "outputs": [
    {
     "data": {
      "text/plain": [
       "<matplotlib.legend.Legend at 0x7f17b0589278>"
      ]
     },
     "execution_count": 27,
     "metadata": {},
     "output_type": "execute_result"
    },
    {
     "data": {
      "image/png": "[encoded data removed]",
      "text/plain": [
       "<Figure size 432x288 with 1 Axes>"
      ]
     },
     "metadata": {},
     "output_type": "display_data"
    }
   ],
   "source": [
    "plt.plot(train_cumulative_loss[25:125], label = 'train loss')\n",
    "plt.plot(valid_cumulative_loss[25:125], label = 'valid loss')\n",
    "plt.legend()"
   ]
  },
  {
   "cell_type": "markdown",
   "metadata": {},
   "source": [
    "$$\\hat{y} = Wx+b$$"
   ]
  },
  {
   "cell_type": "code",
   "execution_count": 28,
   "metadata": {},
   "outputs": [
    {
     "data": {
      "text/plain": [
       "array([[1.6306436]], dtype=float32)"
      ]
     },
     "execution_count": 28,
     "metadata": {},
     "output_type": "execute_result"
    }
   ],
   "source": [
    "sess.run(W)"
   ]
  },
  {
   "cell_type": "code",
   "execution_count": 29,
   "metadata": {},
   "outputs": [
    {
     "data": {
      "text/plain": [
       "array([[15.753804]], dtype=float32)"
      ]
     },
     "execution_count": 29,
     "metadata": {},
     "output_type": "execute_result"
    }
   ],
   "source": [
    "sess.run(b)"
   ]
  },
  {
   "cell_type": "code",
   "execution_count": 30,
   "metadata": {},
   "outputs": [],
   "source": [
    "sess.close()"
   ]
  },
  {
   "cell_type": "markdown",
   "metadata": {},
   "source": [
    "- 성능비교\n",
    "    - With placeholder: 9.05271519 seconds\n",
    "    - With tf.data: 6.12285947 seconds"
   ]
  }
 ],
 "metadata": {
  "kernelspec": {
   "display_name": "Python 3",
   "language": "python",
   "name": "python3"
  },
  "language_info": {
   "codemirror_mode": {
    "name": "ipython",
    "version": 3
   },
   "file_extension": ".py",
   "mimetype": "text/x-python",
   "name": "python",
   "nbconvert_exporter": "python",
   "pygments_lexer": "ipython3",
   "version": "3.6.2"
  }
 },
 "nbformat": 4,
 "nbformat_minor": 2
}
