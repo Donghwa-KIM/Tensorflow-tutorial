{
 "cells": [
  {
   "cell_type": "markdown",
   "metadata": {},
   "source": [
    "# **tf.gradients(y, [xs])**\n",
    "- y가 list일 경우 그 안에 있는 값들이 모두 더해짐\n",
    "- partial derivative of y with respect to xs\n",
    "- 아웃풋은 len(xs)를 가지게 됨\n",
    "- y : cost\n",
    "- xs : trainable variable\n",
    "- grad_ys: y 자기자신을 미분했을 때 사용되는 초기값을 부여(default=1) # 강화학습"
   ]
  },
  {
   "cell_type": "code",
   "execution_count": 1,
   "metadata": {},
   "outputs": [],
   "source": [
    "import tensorflow as tf"
   ]
  },
  {
   "cell_type": "code",
   "execution_count": 2,
   "metadata": {},
   "outputs": [],
   "source": [
    "config = tf.ConfigProto()\n",
    "config.gpu_options.allow_growth=True"
   ]
  },
  {
   "cell_type": "code",
   "execution_count": 3,
   "metadata": {},
   "outputs": [],
   "source": [
    "tf.reset_default_graph()"
   ]
  },
  {
   "cell_type": "code",
   "execution_count": 4,
   "metadata": {},
   "outputs": [],
   "source": [
    "x = tf.get_variable(name='x', initializer=-2.0)\n",
    "y = tf.get_variable(name='y', initializer=5.0)\n",
    "z = tf.get_variable(name='z', initializer=-4.0)"
   ]
  },
  {
   "cell_type": "code",
   "execution_count": 5,
   "metadata": {},
   "outputs": [],
   "source": [
    "q = x + y\n",
    "f = q * z"
   ]
  },
  {
   "cell_type": "markdown",
   "metadata": {},
   "source": [
    "<p align=\"center\"> <img width=\"600\" height=\"auto\" src=\"./picture/gradient_01.jpg\"> </p>"
   ]
  },
  {
   "cell_type": "markdown",
   "metadata": {},
   "source": [
    "$$\\frac{\\partial f}{\\partial f}, \\frac{\\partial f}{\\partial q},\\frac{\\partial f}{\\partial x}, \\frac{\\partial f}{\\partial y}, \\frac{\\partial f}{\\partial z}$$"
   ]
  },
  {
   "cell_type": "code",
   "execution_count": 6,
   "metadata": {},
   "outputs": [
    {
     "data": {
      "text/plain": [
       "[<tf.Tensor 'gradients/AddN:0' shape=() dtype=float32>,\n",
       " <tf.Tensor 'gradients/Fill_1:0' shape=() dtype=float32>]"
      ]
     },
     "execution_count": 6,
     "metadata": {},
     "output_type": "execute_result"
    }
   ],
   "source": [
    "grad_tmp = tf.gradients([x,q], [x,y])\n",
    "grad_tmp"
   ]
  },
  {
   "cell_type": "code",
   "execution_count": 7,
   "metadata": {},
   "outputs": [
    {
     "name": "stdout",
     "output_type": "stream",
     "text": [
      "[1.0]\n"
     ]
    }
   ],
   "source": [
    "with tf.Session(config=config) as sess:\n",
    "    sess.run(tf.global_variables_initializer())\n",
    "    print(sess.run(tf.gradients([x], [x])))"
   ]
  },
  {
   "cell_type": "code",
   "execution_count": 8,
   "metadata": {},
   "outputs": [
    {
     "data": {
      "text/plain": [
       "[None]"
      ]
     },
     "execution_count": 8,
     "metadata": {},
     "output_type": "execute_result"
    }
   ],
   "source": [
    "tf.gradients([x], [q])"
   ]
  },
  {
   "cell_type": "code",
   "execution_count": 9,
   "metadata": {},
   "outputs": [
    {
     "name": "stdout",
     "output_type": "stream",
     "text": [
      "[1.0]\n"
     ]
    }
   ],
   "source": [
    "with tf.Session(config=config) as sess:\n",
    "    sess.run(tf.global_variables_initializer())\n",
    "    print(sess.run(tf.gradients([q], [x])))"
   ]
  },
  {
   "cell_type": "code",
   "execution_count": 10,
   "metadata": {},
   "outputs": [
    {
     "name": "stdout",
     "output_type": "stream",
     "text": [
      "[1.0]\n"
     ]
    }
   ],
   "source": [
    "with tf.Session(config=config) as sess:\n",
    "    sess.run(tf.global_variables_initializer())\n",
    "    print(sess.run(tf.gradients([q], [y])))\n",
    "    "
   ]
  },
  {
   "cell_type": "code",
   "execution_count": 11,
   "metadata": {},
   "outputs": [
    {
     "name": "stdout",
     "output_type": "stream",
     "text": [
      "[2.0, 1.0]\n"
     ]
    }
   ],
   "source": [
    "with tf.Session(config=config) as sess:\n",
    "    sess.run(tf.global_variables_initializer())\n",
    "    tmp = sess.run(grad_tmp)\n",
    "    print(tmp)"
   ]
  },
  {
   "cell_type": "code",
   "execution_count": 12,
   "metadata": {},
   "outputs": [],
   "source": [
    "grad_f = tf.gradients(f, [f, q, x, y, z]) # grad_ys"
   ]
  },
  {
   "cell_type": "code",
   "execution_count": 13,
   "metadata": {},
   "outputs": [],
   "source": [
    "with tf.Session(config=config) as sess:\n",
    "    sess.run(tf.global_variables_initializer())\n",
    "    g_f, g_q, g_x, g_y, g_z = sess.run(grad_f)"
   ]
  },
  {
   "cell_type": "code",
   "execution_count": 14,
   "metadata": {},
   "outputs": [
    {
     "name": "stdout",
     "output_type": "stream",
     "text": [
      "f: 1.0\n",
      "q: -4.0\n",
      "x: -4.0\n",
      "y: -4.0\n",
      "z: 3.0\n"
     ]
    }
   ],
   "source": [
    "print('f:', g_f)\n",
    "print('q:', g_q)\n",
    "print('x:', g_x)\n",
    "print('y:', g_y)\n",
    "print('z:', g_z)"
   ]
  },
  {
   "cell_type": "markdown",
   "metadata": {},
   "source": [
    "<p align=\"center\"> <img width=\"600\" height=\"auto\" src=\"./picture/gradient_02.jpg\"> </p>"
   ]
  },
  {
   "cell_type": "markdown",
   "metadata": {},
   "source": [
    "- **stop.gradient**"
   ]
  },
  {
   "cell_type": "code",
   "execution_count": 15,
   "metadata": {},
   "outputs": [
    {
     "name": "stdout",
     "output_type": "stream",
     "text": [
      "[3.0, 1.0]\n"
     ]
    }
   ],
   "source": [
    "# without stop.gradient\n",
    "a = tf.constant(0.)\n",
    "b = 2 * a\n",
    "g = tf.gradients(a + b, [a, b])\n",
    "\n",
    "with tf.Session(config=config) as sess:\n",
    "    sess.run(tf.global_variables_initializer())\n",
    "    print(sess.run(g))"
   ]
  },
  {
   "cell_type": "code",
   "execution_count": 16,
   "metadata": {},
   "outputs": [
    {
     "name": "stdout",
     "output_type": "stream",
     "text": [
      "[1.0, 1.0]\n"
     ]
    }
   ],
   "source": [
    "# with stop.gradient\n",
    "a = tf.constant(0.)\n",
    "b = 2 * a\n",
    "g_stop = tf.gradients(a + b, [a, b] ,stop_gradients=[a,b])\n",
    "\n",
    "with tf.Session(config=config) as sess:\n",
    "    sess.run(tf.global_variables_initializer())\n",
    "    print(sess.run(g_stop)) # "
   ]
  },
  {
   "cell_type": "code",
   "execution_count": 17,
   "metadata": {},
   "outputs": [
    {
     "name": "stdout",
     "output_type": "stream",
     "text": [
      "[1.0, 1.0]\n"
     ]
    }
   ],
   "source": [
    "# another way\n",
    "a = tf.stop_gradient(tf.constant(0.))\n",
    "b = tf.stop_gradient(2 * a)\n",
    "g = tf.gradients(a + b, [a, b])\n",
    "\n",
    "\n",
    "with tf.Session(config=config) as sess:\n",
    "    sess.run(tf.global_variables_initializer())\n",
    "    print(sess.run(g))"
   ]
  },
  {
   "cell_type": "markdown",
   "metadata": {},
   "source": [
    "# **optimizer***\n"
   ]
  },
  {
   "cell_type": "markdown",
   "metadata": {},
   "source": [
    "- **fine-tunning할 때 특정 파라미터만 학습시키고 싶을 때 주로 사용되는 방식**"
   ]
  },
  {
   "cell_type": "markdown",
   "metadata": {},
   "source": [
    "```python\n",
    "optimizer = tf.train.AdagradOptimzer(0.01)\n",
    "\n",
    "first_train_vars = tf.get_collection(tf.GraphKeys.TRAINABLE_VARIABLES,\n",
    "                                     \"scope/prefix/for/first/vars\")\n",
    "first_train_op = optimizer.minimize(cost, var_list=first_train_vars)\n",
    "\n",
    "second_train_vars = tf.get_collection(tf.GraphKeys.TRAINABLE_VARIABLES,\n",
    "                                      \"scope/prefix/for/second/vars\")                     \n",
    "second_train_op = optimizer.minimize(cost, var_list=second_train_vars)\n",
    "```"
   ]
  },
  {
   "cell_type": "markdown",
   "metadata": {},
   "source": [
    "- 03_model에서 사용되었던 데이터와 코드를 그대로 불러왔음"
   ]
  },
  {
   "cell_type": "code",
   "execution_count": 18,
   "metadata": {},
   "outputs": [],
   "source": [
    "%matplotlib inline\n",
    "import numpy as np\n",
    "import matplotlib.pyplot as plt\n",
    "import pandas as pd\n",
    "import math\n",
    "\n",
    "def data_partition(x,y):\n",
    "    idx = np.arange(len(x))\n",
    "    np.random.shuffle(idx)\n",
    "\n",
    "    trn_idx = idx[:int(len(x)*0.6)] # 60%\n",
    "    val_idx = idx[int(len(x)*0.6):int(len(x)*0.8)] # 20%\n",
    "    tst_idx = idx[int(len(x)*0.8):] # 20%\n",
    "    \n",
    "    return {'train': {'x': x[trn_idx], \n",
    "                      'y': y[trn_idx]},\n",
    "            'valid': {'x': x[val_idx],\n",
    "                     'y': y[val_idx]},\n",
    "            'test': {'x': x[tst_idx],\n",
    "                     'y': y[tst_idx]}\n",
    "           }\n",
    "\n",
    "\n",
    "path = 'dataset/regression.csv'\n",
    "\n",
    "df= pd.read_csv(path)\n",
    "x = df['X'].values.reshape(-1,1)\n",
    "y = df['Y'].values.reshape(-1,1)\n",
    "\n",
    "data_dict = data_partition(x,y)"
   ]
  },
  {
   "cell_type": "markdown",
   "metadata": {},
   "source": [
    "---"
   ]
  },
  {
   "cell_type": "markdown",
   "metadata": {},
   "source": [
    "1) **Graph 생성**\n"
   ]
  },
  {
   "cell_type": "code",
   "execution_count": 19,
   "metadata": {},
   "outputs": [],
   "source": [
    "tf.reset_default_graph()"
   ]
  },
  {
   "cell_type": "markdown",
   "metadata": {},
   "source": [
    "- graph에 흘려보내는 데이터"
   ]
  },
  {
   "cell_type": "code",
   "execution_count": 20,
   "metadata": {},
   "outputs": [],
   "source": [
    "X = tf.placeholder(shape=[None, 1], dtype=tf.float32, name = 'X')\n",
    "Y = tf.placeholder(shape=[None, 1], dtype=tf.float32, name = 'Y')"
   ]
  },
  {
   "cell_type": "markdown",
   "metadata": {},
   "source": [
    "- graph의 학습 파라미터"
   ]
  },
  {
   "cell_type": "code",
   "execution_count": 21,
   "metadata": {},
   "outputs": [
    {
     "name": "stdout",
     "output_type": "stream",
     "text": [
      "<tf.Variable 'weight:0' shape=(1, 1) dtype=float32_ref>\n",
      "<tf.Variable 'bias:0' shape=(1, 1) dtype=float32_ref>\n"
     ]
    }
   ],
   "source": [
    "W = tf.get_variable(name='weight', shape=[1,1], initializer=tf.zeros_initializer())\n",
    "b = tf.get_variable(name='bias', shape=[1,1], initializer=tf.zeros_initializer()) # trainable\n",
    "print(W)\n",
    "print(b)"
   ]
  },
  {
   "cell_type": "markdown",
   "metadata": {},
   "source": [
    "- 모델 생성"
   ]
  },
  {
   "cell_type": "code",
   "execution_count": 22,
   "metadata": {},
   "outputs": [
    {
     "data": {
      "text/plain": [
       "<tf.Tensor 'add:0' shape=(?, 1) dtype=float32>"
      ]
     },
     "execution_count": 22,
     "metadata": {},
     "output_type": "execute_result"
    }
   ],
   "source": [
    "Y_predicted = tf.matmul(X,W)+b \n",
    "Y_predicted"
   ]
  },
  {
   "cell_type": "markdown",
   "metadata": {},
   "source": [
    "- 손실함수(목적함수) 정의"
   ]
  },
  {
   "cell_type": "code",
   "execution_count": 23,
   "metadata": {},
   "outputs": [
    {
     "data": {
      "text/plain": [
       "<tf.Tensor 'Mean:0' shape=() dtype=float32>"
      ]
     },
     "execution_count": 23,
     "metadata": {},
     "output_type": "execute_result"
    }
   ],
   "source": [
    "loss = tf.reduce_mean(tf.square(Y-Y_predicted))\n",
    "loss"
   ]
  },
  {
   "cell_type": "markdown",
   "metadata": {},
   "source": [
    "--- "
   ]
  },
  {
   "cell_type": "markdown",
   "metadata": {},
   "source": [
    "- **optimizer를 사용하여 특정한 변수(파라미터, 레이어)만 학습***"
   ]
  },
  {
   "cell_type": "code",
   "execution_count": 24,
   "metadata": {},
   "outputs": [
    {
     "data": {
      "text/plain": [
       "[<tf.Variable 'weight:0' shape=(1, 1) dtype=float32_ref>,\n",
       " <tf.Variable 'bias:0' shape=(1, 1) dtype=float32_ref>]"
      ]
     },
     "execution_count": 24,
     "metadata": {},
     "output_type": "execute_result"
    }
   ],
   "source": [
    "tf.get_collection(key=tf.GraphKeys.TRAINABLE_VARIABLES)"
   ]
  },
  {
   "cell_type": "code",
   "execution_count": 25,
   "metadata": {},
   "outputs": [
    {
     "data": {
      "text/plain": [
       "[<tf.Variable 'bias:0' shape=(1, 1) dtype=float32_ref>]"
      ]
     },
     "execution_count": 25,
     "metadata": {},
     "output_type": "execute_result"
    }
   ],
   "source": [
    "train_var = tf.get_collection(key=tf.GraphKeys.TRAINABLE_VARIABLES, scope='bias')\n",
    "train_var"
   ]
  },
  {
   "cell_type": "markdown",
   "metadata": {},
   "source": [
    "- 최적화"
   ]
  },
  {
   "cell_type": "code",
   "execution_count": 26,
   "metadata": {},
   "outputs": [],
   "source": [
    "optimizer = tf.train.AdamOptimizer(learning_rate=0.01)\n",
    "\n",
    "train_op = optimizer.minimize(loss, var_list=train_var)"
   ]
  },
  {
   "cell_type": "markdown",
   "metadata": {},
   "source": [
    "---"
   ]
  },
  {
   "cell_type": "markdown",
   "metadata": {},
   "source": [
    "2) **Session 사용하여 Operation(Op) 수행**"
   ]
  },
  {
   "cell_type": "code",
   "execution_count": 27,
   "metadata": {},
   "outputs": [],
   "source": [
    "batch_size =4\n",
    "\n",
    "trn_batch_num = math.ceil(len(data_dict['train']['x'])/batch_size)\n",
    "val_batch_num = math.ceil(len(data_dict['valid']['x'])/batch_size)\n",
    "tst_batch_num = math.ceil(len(data_dict['test']['x'])/batch_size)"
   ]
  },
  {
   "cell_type": "code",
   "execution_count": 28,
   "metadata": {},
   "outputs": [
    {
     "name": "stdout",
     "output_type": "stream",
     "text": [
      "epoch 000: trn_loss(1926.3070068359375) val_loss(1117.31640625)\n",
      "epoch 200: trn_loss(1232.283203125) val_loss(508.41204833984375)\n",
      "epoch 400: trn_loss(888.2050170898438) val_loss(231.62086486816406)\n",
      "epoch 600: trn_loss(753.8170776367188) val_loss(145.40623474121094)\n",
      "epoch 800: trn_loss(719.2965698242188) val_loss(138.37098693847656)\n"
     ]
    }
   ],
   "source": [
    "sess =tf.Session(config=config)\n",
    "sess.run(tf.global_variables_initializer())\n",
    "\n",
    "train_cumulative_loss = []    \n",
    "valid_cumulative_loss = []\n",
    "for i in range(1000):\n",
    "\n",
    "    # training\n",
    "    train_batch_loss = []\n",
    "    for m in range(trn_batch_num):\n",
    "        start = m*batch_size\n",
    "        end = m*batch_size+batch_size\n",
    "        x_batch = data_dict['train']['x'][start:end]\n",
    "        y_batch = data_dict['train']['y'][start:end]\n",
    "        _, _loss = sess.run([train_op, loss], feed_dict={X: x_batch, Y: y_batch})\n",
    "        train_batch_loss.append(_loss)\n",
    "\n",
    "    # development\n",
    "    valid_batch_loss = []\n",
    "    for m in range(val_batch_num):\n",
    "        start = m*batch_size\n",
    "        end = m*batch_size+batch_size\n",
    "        x_batch = data_dict['valid']['x'][start:end]\n",
    "        y_batch = data_dict['valid']['y'][start:end]\n",
    "        _loss = sess.run(loss, feed_dict={X: x_batch, Y: y_batch})\n",
    "        valid_batch_loss.append(_loss)\n",
    "\n",
    "    train_cumulative_loss.append(np.mean(train_batch_loss))\n",
    "    valid_cumulative_loss.append(np.mean(valid_batch_loss))\n",
    "    if i % 200 == 0:\n",
    "        print('epoch {}:'.format(str(i).zfill(3)), \n",
    "              'trn_loss({})'.format(np.mean(train_batch_loss)), \n",
    "              'val_loss({})'.format(np.mean(valid_batch_loss)))"
   ]
  },
  {
   "cell_type": "code",
   "execution_count": 29,
   "metadata": {},
   "outputs": [
    {
     "data": {
      "text/plain": [
       "array([[0.]], dtype=float32)"
      ]
     },
     "execution_count": 29,
     "metadata": {},
     "output_type": "execute_result"
    }
   ],
   "source": [
    "sess.run(W)"
   ]
  },
  {
   "cell_type": "code",
   "execution_count": 30,
   "metadata": {},
   "outputs": [
    {
     "data": {
      "text/plain": [
       "array([[34.083614]], dtype=float32)"
      ]
     },
     "execution_count": 30,
     "metadata": {},
     "output_type": "execute_result"
    }
   ],
   "source": [
    "sess.run(b)"
   ]
  },
  {
   "cell_type": "code",
   "execution_count": 31,
   "metadata": {},
   "outputs": [],
   "source": [
    "sess.close()"
   ]
  },
  {
   "cell_type": "markdown",
   "metadata": {},
   "source": [
    "---"
   ]
  },
  {
   "cell_type": "markdown",
   "metadata": {},
   "source": [
    "- **Vanishing/exploding gradients**"
   ]
  },
  {
   "cell_type": "markdown",
   "metadata": {},
   "source": [
    "<p align=\"center\"> <img width=\"600\" height=\"auto\" src=\"./picture/exploding gradients.jpg\"> </p>"
   ]
  },
  {
   "cell_type": "markdown",
   "metadata": {},
   "source": [
    "1) **Graph 생성**\n"
   ]
  },
  {
   "cell_type": "code",
   "execution_count": 32,
   "metadata": {},
   "outputs": [],
   "source": [
    "tf.reset_default_graph()"
   ]
  },
  {
   "cell_type": "markdown",
   "metadata": {},
   "source": [
    "- graph에 흘려보내는 데이터"
   ]
  },
  {
   "cell_type": "code",
   "execution_count": 33,
   "metadata": {},
   "outputs": [],
   "source": [
    "X = tf.placeholder(shape=[None, 1], dtype=tf.float32, name = 'X')\n",
    "Y = tf.placeholder(shape=[None, 1], dtype=tf.float32, name = 'Y')"
   ]
  },
  {
   "cell_type": "markdown",
   "metadata": {},
   "source": [
    "- graph의 학습 파라미터"
   ]
  },
  {
   "cell_type": "code",
   "execution_count": 34,
   "metadata": {},
   "outputs": [
    {
     "name": "stdout",
     "output_type": "stream",
     "text": [
      "<tf.Variable 'weight:0' shape=(1, 1) dtype=float32_ref>\n",
      "<tf.Variable 'bias:0' shape=(1, 1) dtype=float32_ref>\n"
     ]
    }
   ],
   "source": [
    "W = tf.get_variable(name='weight', shape=[1,1], initializer=tf.zeros_initializer())\n",
    "b = tf.get_variable(name='bias', shape=[1,1], initializer=tf.zeros_initializer()) # trainable\n",
    "print(W)\n",
    "print(b)"
   ]
  },
  {
   "cell_type": "markdown",
   "metadata": {},
   "source": [
    "- 모델 생성"
   ]
  },
  {
   "cell_type": "code",
   "execution_count": 35,
   "metadata": {},
   "outputs": [
    {
     "data": {
      "text/plain": [
       "<tf.Tensor 'add:0' shape=(?, 1) dtype=float32>"
      ]
     },
     "execution_count": 35,
     "metadata": {},
     "output_type": "execute_result"
    }
   ],
   "source": [
    "Y_predicted = tf.matmul(X,W)+b \n",
    "Y_predicted"
   ]
  },
  {
   "cell_type": "markdown",
   "metadata": {},
   "source": [
    "- 손실함수(목적함수) 정의"
   ]
  },
  {
   "cell_type": "code",
   "execution_count": 36,
   "metadata": {},
   "outputs": [
    {
     "data": {
      "text/plain": [
       "<tf.Tensor 'Mean:0' shape=() dtype=float32>"
      ]
     },
     "execution_count": 36,
     "metadata": {},
     "output_type": "execute_result"
    }
   ],
   "source": [
    "loss = tf.reduce_mean(tf.square(Y-Y_predicted))\n",
    "loss"
   ]
  },
  {
   "cell_type": "markdown",
   "metadata": {},
   "source": [
    "---"
   ]
  },
  {
   "cell_type": "markdown",
   "metadata": {},
   "source": [
    "- 최적화"
   ]
  },
  {
   "cell_type": "code",
   "execution_count": 37,
   "metadata": {},
   "outputs": [],
   "source": [
    "optimizer = tf.train.AdamOptimizer(learning_rate=0.01)"
   ]
  },
  {
   "cell_type": "markdown",
   "metadata": {},
   "source": [
    "- optimizer 함수를 사용하여 그래디언트를 컨트롤 할 수 있음\n",
    "    - gradient는 (gradient, trainable variable) 한쌍으로 생성됨"
   ]
  },
  {
   "cell_type": "code",
   "execution_count": 38,
   "metadata": {},
   "outputs": [
    {
     "data": {
      "text/plain": [
       "[(<tf.Tensor 'gradients/MatMul_grad/tuple/control_dependency_1:0' shape=(1, 1) dtype=float32>,\n",
       "  <tf.Variable 'weight:0' shape=(1, 1) dtype=float32_ref>),\n",
       " (<tf.Tensor 'gradients/add_grad/tuple/control_dependency_1:0' shape=(1, 1) dtype=float32>,\n",
       "  <tf.Variable 'bias:0' shape=(1, 1) dtype=float32_ref>)]"
      ]
     },
     "execution_count": 38,
     "metadata": {},
     "output_type": "execute_result"
    }
   ],
   "source": [
    "grad_var = optimizer.compute_gradients(loss)\n",
    "grad_var"
   ]
  },
  {
   "cell_type": "code",
   "execution_count": 39,
   "metadata": {},
   "outputs": [
    {
     "data": {
      "text/plain": [
       "[(<tf.Tensor 'clip_by_value:0' shape=(1, 1) dtype=float32>,\n",
       "  <tf.Variable 'weight:0' shape=(1, 1) dtype=float32_ref>),\n",
       " (<tf.Tensor 'clip_by_value_1:0' shape=(1, 1) dtype=float32>,\n",
       "  <tf.Variable 'bias:0' shape=(1, 1) dtype=float32_ref>)]"
      ]
     },
     "execution_count": 39,
     "metadata": {},
     "output_type": "execute_result"
    }
   ],
   "source": [
    "clipped_grad = [(tf.clip_by_value(grad, -1., 1.), var) for grad, var in grad_var]\n",
    "clipped_grad"
   ]
  },
  {
   "cell_type": "code",
   "execution_count": 40,
   "metadata": {},
   "outputs": [],
   "source": [
    "# instead of minimizing\n",
    "train_op = optimizer.apply_gradients(clipped_grad)"
   ]
  },
  {
   "cell_type": "markdown",
   "metadata": {},
   "source": [
    "---"
   ]
  },
  {
   "cell_type": "markdown",
   "metadata": {},
   "source": [
    "2) **Session 사용하여 Operation(Op) 수행**"
   ]
  },
  {
   "cell_type": "code",
   "execution_count": 41,
   "metadata": {},
   "outputs": [
    {
     "name": "stdout",
     "output_type": "stream",
     "text": [
      "epoch 000: trn_loss(1885.812744140625) val_loss(1077.052734375)\n",
      "epoch 200: trn_loss(537.0685424804688) val_loss(218.91851806640625)\n",
      "epoch 400: trn_loss(558.7372436523438) val_loss(153.6123046875)\n",
      "epoch 600: trn_loss(571.6903686523438) val_loss(122.33698272705078)\n",
      "epoch 800: trn_loss(581.6454467773438) val_loss(118.17652130126953)\n"
     ]
    }
   ],
   "source": [
    "config = tf.ConfigProto()\n",
    "config.gpu_options.allow_growth=True\n",
    "\n",
    "sess =tf.Session(config=config)\n",
    "sess.run(tf.global_variables_initializer())\n",
    "\n",
    "train_cumulative_loss = []    \n",
    "valid_cumulative_loss = []\n",
    "for i in range(1000):\n",
    "\n",
    "    # training\n",
    "    train_batch_loss = []\n",
    "    for m in range(trn_batch_num):\n",
    "        start = m*batch_size\n",
    "        end = m*batch_size+batch_size\n",
    "        x_batch = data_dict['train']['x'][start:end]\n",
    "        y_batch = data_dict['train']['y'][start:end]\n",
    "        _, _loss = sess.run([train_op, loss], feed_dict={X: x_batch, Y: y_batch})\n",
    "        train_batch_loss.append(_loss)\n",
    "\n",
    "    # development\n",
    "    valid_batch_loss = []\n",
    "    for m in range(val_batch_num):\n",
    "        start = m*batch_size\n",
    "        end = m*batch_size+batch_size\n",
    "        x_batch = data_dict['valid']['x'][start:end]\n",
    "        y_batch = data_dict['valid']['y'][start:end]\n",
    "        _loss = sess.run(loss, feed_dict={X: x_batch, Y: y_batch})\n",
    "        valid_batch_loss.append(_loss)\n",
    "\n",
    "    train_cumulative_loss.append(np.mean(train_batch_loss))\n",
    "    valid_cumulative_loss.append(np.mean(valid_batch_loss))\n",
    "    if i % 200 == 0:\n",
    "        print('epoch {}:'.format(str(i).zfill(3)), \n",
    "              'trn_loss({})'.format(np.mean(train_batch_loss)), \n",
    "              'val_loss({})'.format(np.mean(valid_batch_loss)))"
   ]
  },
  {
   "cell_type": "code",
   "execution_count": 42,
   "metadata": {},
   "outputs": [
    {
     "data": {
      "text/plain": [
       "<matplotlib.legend.Legend at 0x131ee77f0>"
      ]
     },
     "execution_count": 42,
     "metadata": {},
     "output_type": "execute_result"
    },
    {
     "data": {
      "image/png": "[encoded data removed]",
      "text/plain": [
       "<Figure size 432x288 with 1 Axes>"
      ]
     },
     "metadata": {
      "needs_background": "light"
     },
     "output_type": "display_data"
    }
   ],
   "source": [
    "plt.plot(train_cumulative_loss, label = 'train loss')\n",
    "plt.plot(valid_cumulative_loss, label = 'valid loss')\n",
    "plt.legend()"
   ]
  },
  {
   "cell_type": "code",
   "execution_count": 43,
   "metadata": {},
   "outputs": [
    {
     "data": {
      "text/plain": [
       "<matplotlib.legend.Legend at 0x131f92710>"
      ]
     },
     "execution_count": 43,
     "metadata": {},
     "output_type": "execute_result"
    },
    {
     "data": {
      "image/png": "[encoded data removed]",
      "text/plain": [
       "<Figure size 432x288 with 1 Axes>"
      ]
     },
     "metadata": {
      "needs_background": "light"
     },
     "output_type": "display_data"
    }
   ],
   "source": [
    "plt.plot(train_cumulative_loss[25:125], label = 'train loss')\n",
    "plt.plot(valid_cumulative_loss[25:125], label = 'valid loss')\n",
    "plt.legend()"
   ]
  }
 ],
 "metadata": {
  "kernelspec": {
   "display_name": "Python 3",
   "language": "python",
   "name": "python3"
  },
  "language_info": {
   "codemirror_mode": {
    "name": "ipython",
    "version": 3
   },
   "file_extension": ".py",
   "mimetype": "text/x-python",
   "name": "python",
   "nbconvert_exporter": "python",
   "pygments_lexer": "ipython3",
   "version": "3.6.2"
  }
 },
 "nbformat": 4,
 "nbformat_minor": 2
}
