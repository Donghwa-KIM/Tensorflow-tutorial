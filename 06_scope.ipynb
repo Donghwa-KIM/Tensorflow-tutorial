{
 "cells": [
  {
   "cell_type": "code",
   "execution_count": 1,
   "metadata": {},
   "outputs": [],
   "source": [
    "import tensorflow as tf"
   ]
  },
  {
   "cell_type": "code",
   "execution_count": 2,
   "metadata": {},
   "outputs": [],
   "source": [
    "config = tf.ConfigProto()\n",
    "config.gpu_options.allow_growth=True"
   ]
  },
  {
   "cell_type": "code",
   "execution_count": 3,
   "metadata": {},
   "outputs": [],
   "source": [
    "tf.reset_default_graph()"
   ]
  },
  {
   "cell_type": "markdown",
   "metadata": {},
   "source": [
    "<p align=\"center\"><img width=\"600\" height=\"auto\" src=\"./picture/hidden.jpg\"></p>"
   ]
  },
  {
   "cell_type": "markdown",
   "metadata": {},
   "source": [
    "<p align=\"center\"><img width=\"600\" height=\"auto\" src=\"./picture/hidden.jpg\"></p>"
   ]
  },
  {
   "cell_type": "code",
   "execution_count": 4,
   "metadata": {},
   "outputs": [],
   "source": [
    "def two_hidden_layers(x):\n",
    "    w1 = tf.Variable(tf.random_normal([3, 4]), name='h1_weights')\n",
    "    b1 = tf.Variable(tf.zeros([4]), name='h1_biases')\n",
    "    h1 = tf.matmul(x, w1) + b1\n",
    "\n",
    "    w2 = tf.Variable(tf.random_normal([4, 4]), name='h2_weights')\n",
    "    b2 = tf.Variable(tf.zeros([4]), name='h2_biases')\n",
    "    h2 = tf.matmul(h1, w2) + b2\n",
    "    return h2"
   ]
  },
  {
   "cell_type": "code",
   "execution_count": 5,
   "metadata": {},
   "outputs": [],
   "source": [
    "# batch_size = 10\n",
    "# input_dim =3\n",
    "\n",
    "net_1 = two_hidden_layers(tf.random_normal([10, 3]))\n",
    "net_2 = two_hidden_layers(tf.random_normal([10, 3]))\n"
   ]
  },
  {
   "cell_type": "code",
   "execution_count": 6,
   "metadata": {},
   "outputs": [
    {
     "data": {
      "text/plain": [
       "[<tf.Variable 'h1_weights:0' shape=(3, 4) dtype=float32_ref>,\n",
       " <tf.Variable 'h1_biases:0' shape=(4,) dtype=float32_ref>,\n",
       " <tf.Variable 'h2_weights:0' shape=(4, 4) dtype=float32_ref>,\n",
       " <tf.Variable 'h2_biases:0' shape=(4,) dtype=float32_ref>,\n",
       " <tf.Variable 'h1_weights_1:0' shape=(3, 4) dtype=float32_ref>,\n",
       " <tf.Variable 'h1_biases_1:0' shape=(4,) dtype=float32_ref>,\n",
       " <tf.Variable 'h2_weights_1:0' shape=(4, 4) dtype=float32_ref>,\n",
       " <tf.Variable 'h2_biases_1:0' shape=(4,) dtype=float32_ref>]"
      ]
     },
     "execution_count": 6,
     "metadata": {},
     "output_type": "execute_result"
    }
   ],
   "source": [
    "tf.trainable_variables()"
   ]
  },
  {
   "cell_type": "markdown",
   "metadata": {},
   "source": [
    "# **Name scope & Variable scope**\n",
    "- Name scope: 지정된 name에 대하여 변수이름에 prefix가 생성됨\n",
    "    - 변수 이름들을 효율적으로 관리\n",
    "- Variable scope: 모델 파라미터 공유할 때 사용"
   ]
  },
  {
   "cell_type": "markdown",
   "metadata": {},
   "source": [
    "- **Name scope**"
   ]
  },
  {
   "cell_type": "code",
   "execution_count": 7,
   "metadata": {},
   "outputs": [],
   "source": [
    "tf.reset_default_graph()\n",
    "\n",
    "def name_scope_two_hidden_layers(x):\n",
    "    w1 = tf.Variable(tf.random_normal([3, 4]), 'h1_weights')\n",
    "    b1 = tf.Variable(tf.zeros([4]), name='h1_biases')\n",
    "    h1 = tf.matmul(x, w1) + b1\n",
    "        \n",
    "    w2 = tf.Variable(tf.random_normal([4, 4]),'h2_weights')\n",
    "    b2 = tf.Variable(tf.zeros([4]), name='h2_biases')\n",
    "    h2 = tf.matmul(h1, w2) + b2\n",
    "    \n",
    "    return h2"
   ]
  },
  {
   "cell_type": "code",
   "execution_count": 8,
   "metadata": {},
   "outputs": [],
   "source": [
    "with tf.name_scope('Network_1'):\n",
    "    net_1 = name_scope_two_hidden_layers(tf.random_normal([10, 3]))\n",
    "\n",
    "with tf.name_scope('Network_2'):\n",
    "    net_2 = name_scope_two_hidden_layers(tf.random_normal([10, 3]))"
   ]
  },
  {
   "cell_type": "code",
   "execution_count": 9,
   "metadata": {},
   "outputs": [
    {
     "data": {
      "text/plain": [
       "'Network_1/add_1:0'"
      ]
     },
     "execution_count": 9,
     "metadata": {},
     "output_type": "execute_result"
    }
   ],
   "source": [
    "net_1.name"
   ]
  },
  {
   "cell_type": "code",
   "execution_count": 10,
   "metadata": {},
   "outputs": [
    {
     "data": {
      "text/plain": [
       "'Network_2/add_1:0'"
      ]
     },
     "execution_count": 10,
     "metadata": {},
     "output_type": "execute_result"
    }
   ],
   "source": [
    "net_2.name"
   ]
  },
  {
   "cell_type": "code",
   "execution_count": 11,
   "metadata": {},
   "outputs": [
    {
     "data": {
      "text/plain": [
       "[<tf.Variable 'Network_1/Variable:0' shape=(3, 4) dtype=float32_ref>,\n",
       " <tf.Variable 'Network_1/h1_biases:0' shape=(4,) dtype=float32_ref>,\n",
       " <tf.Variable 'Network_1/Variable_1:0' shape=(4, 4) dtype=float32_ref>,\n",
       " <tf.Variable 'Network_1/h2_biases:0' shape=(4,) dtype=float32_ref>,\n",
       " <tf.Variable 'Network_2/Variable:0' shape=(3, 4) dtype=float32_ref>,\n",
       " <tf.Variable 'Network_2/h1_biases:0' shape=(4,) dtype=float32_ref>,\n",
       " <tf.Variable 'Network_2/Variable_1:0' shape=(4, 4) dtype=float32_ref>,\n",
       " <tf.Variable 'Network_2/h2_biases:0' shape=(4,) dtype=float32_ref>]"
      ]
     },
     "execution_count": 11,
     "metadata": {},
     "output_type": "execute_result"
    }
   ],
   "source": [
    "tf.trainable_variables()"
   ]
  },
  {
   "cell_type": "markdown",
   "metadata": {},
   "source": [
    "- **Variable scope**\n",
    "    - Variable를 공유하고 싶을 때 사용 (Training, test, RNN 구조)\n",
    "    - *tf.get_variable*과 함께 사용 됨"
   ]
  },
  {
   "cell_type": "code",
   "execution_count": 59,
   "metadata": {},
   "outputs": [],
   "source": [
    "tf.reset_default_graph()\n",
    "\n",
    "def variable_scope_two_hidden_layers(x):\n",
    "\n",
    "    w1 = tf.get_variable(name = 'h1_weights', shape = [3,4], initializer=tf.random_normal_initializer())\n",
    "    b1 = tf.get_variable(name = 'h1_biases', shape = [4] , initializer=tf.constant_initializer(0.0))\n",
    "    h1 = tf.matmul(x, w1) + b1\n",
    "\n",
    "    w2 = tf.get_variable(name = 'h2_weights', shape = [4,4], initializer=tf.random_normal_initializer())\n",
    "    b2 = tf.get_variable(name = 'h2_biases', shape = [4] , initializer=tf.constant_initializer(0.0))\n",
    "    h2 = tf.matmul(h1, w2) + b2\n",
    "        \n",
    "    return h2"
   ]
  },
  {
   "cell_type": "markdown",
   "metadata": {},
   "source": [
    "- Variable scope를 사용하지 않을 경우, net_1에서 이미 'h1_weights', 'h1_biases'는 생성되어 있어서 함수를 한번 더 실행을 했을 때 에러를 반환"
   ]
  },
  {
   "cell_type": "code",
   "execution_count": 60,
   "metadata": {},
   "outputs": [],
   "source": [
    "with tf.variable_scope('Network_1', reuse = tf.AUTO_REUSE): # reuse = False\n",
    "    net_1 = variable_scope_two_hidden_layers(tf.random_normal([10, 3]))\n",
    "\n",
    "with tf.variable_scope('Network_2', reuse = tf.AUTO_REUSE): # reuse = False\n",
    "    net_2 = variable_scope_two_hidden_layers(tf.random_normal([10, 3]))"
   ]
  },
  {
   "cell_type": "code",
   "execution_count": 61,
   "metadata": {},
   "outputs": [
    {
     "data": {
      "text/plain": [
       "<tf.Tensor 'Network_1/add_1:0' shape=(10, 4) dtype=float32>"
      ]
     },
     "execution_count": 61,
     "metadata": {},
     "output_type": "execute_result"
    }
   ],
   "source": [
    "net_1"
   ]
  },
  {
   "cell_type": "code",
   "execution_count": 62,
   "metadata": {},
   "outputs": [
    {
     "data": {
      "text/plain": [
       "<tf.Tensor 'Network_2/add_1:0' shape=(10, 4) dtype=float32>"
      ]
     },
     "execution_count": 62,
     "metadata": {},
     "output_type": "execute_result"
    }
   ],
   "source": [
    "net_2"
   ]
  },
  {
   "cell_type": "code",
   "execution_count": 63,
   "metadata": {},
   "outputs": [
    {
     "data": {
      "text/plain": [
       "[<tf.Variable 'Network_1/h1_weights:0' shape=(3, 4) dtype=float32_ref>,\n",
       " <tf.Variable 'Network_1/h1_biases:0' shape=(4,) dtype=float32_ref>,\n",
       " <tf.Variable 'Network_1/h2_weights:0' shape=(4, 4) dtype=float32_ref>,\n",
       " <tf.Variable 'Network_1/h2_biases:0' shape=(4,) dtype=float32_ref>,\n",
       " <tf.Variable 'Network_2/h1_weights:0' shape=(3, 4) dtype=float32_ref>,\n",
       " <tf.Variable 'Network_2/h1_biases:0' shape=(4,) dtype=float32_ref>,\n",
       " <tf.Variable 'Network_2/h2_weights:0' shape=(4, 4) dtype=float32_ref>,\n",
       " <tf.Variable 'Network_2/h2_biases:0' shape=(4,) dtype=float32_ref>]"
      ]
     },
     "execution_count": 63,
     "metadata": {},
     "output_type": "execute_result"
    }
   ],
   "source": [
    "tf.trainable_variables()"
   ]
  },
  {
   "cell_type": "code",
   "execution_count": 64,
   "metadata": {},
   "outputs": [],
   "source": [
    "with tf.variable_scope('Network_1', reuse = True): # reuse = True\n",
    "    net_1 = variable_scope_two_hidden_layers(tf.random_normal([10, 3]))\n",
    "with tf.variable_scope('Network_2', reuse = True): # reuse = True\n",
    "    net_2 = variable_scope_two_hidden_layers(tf.random_normal([10, 3]))"
   ]
  },
  {
   "cell_type": "code",
   "execution_count": 65,
   "metadata": {},
   "outputs": [
    {
     "data": {
      "text/plain": [
       "<tf.Tensor 'Network_1_1/add_1:0' shape=(10, 4) dtype=float32>"
      ]
     },
     "execution_count": 65,
     "metadata": {},
     "output_type": "execute_result"
    }
   ],
   "source": [
    "net_1"
   ]
  },
  {
   "cell_type": "code",
   "execution_count": 66,
   "metadata": {},
   "outputs": [
    {
     "data": {
      "text/plain": [
       "<tf.Tensor 'Network_2_1/add_1:0' shape=(10, 4) dtype=float32>"
      ]
     },
     "execution_count": 66,
     "metadata": {},
     "output_type": "execute_result"
    }
   ],
   "source": [
    "net_2"
   ]
  },
  {
   "cell_type": "code",
   "execution_count": 67,
   "metadata": {},
   "outputs": [
    {
     "data": {
      "text/plain": [
       "[<tf.Variable 'Network_1/h1_weights:0' shape=(3, 4) dtype=float32_ref>,\n",
       " <tf.Variable 'Network_1/h1_biases:0' shape=(4,) dtype=float32_ref>,\n",
       " <tf.Variable 'Network_1/h2_weights:0' shape=(4, 4) dtype=float32_ref>,\n",
       " <tf.Variable 'Network_1/h2_biases:0' shape=(4,) dtype=float32_ref>,\n",
       " <tf.Variable 'Network_2/h1_weights:0' shape=(3, 4) dtype=float32_ref>,\n",
       " <tf.Variable 'Network_2/h1_biases:0' shape=(4,) dtype=float32_ref>,\n",
       " <tf.Variable 'Network_2/h2_weights:0' shape=(4, 4) dtype=float32_ref>,\n",
       " <tf.Variable 'Network_2/h2_biases:0' shape=(4,) dtype=float32_ref>]"
      ]
     },
     "execution_count": 67,
     "metadata": {},
     "output_type": "execute_result"
    }
   ],
   "source": [
    "tf.trainable_variables()"
   ]
  },
  {
   "cell_type": "code",
   "execution_count": null,
   "metadata": {},
   "outputs": [],
   "source": []
  }
 ],
 "metadata": {
  "kernelspec": {
   "display_name": "Python 3",
   "language": "python",
   "name": "python3"
  },
  "language_info": {
   "codemirror_mode": {
    "name": "ipython",
    "version": 3
   },
   "file_extension": ".py",
   "mimetype": "text/x-python",
   "name": "python",
   "nbconvert_exporter": "python",
   "pygments_lexer": "ipython3",
   "version": "3.6.2"
  }
 },
 "nbformat": 4,
 "nbformat_minor": 2
}
